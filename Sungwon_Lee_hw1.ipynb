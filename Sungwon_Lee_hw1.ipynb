{
 "cells": [
  {
   "cell_type": "markdown",
   "metadata": {},
   "source": [
    "## 2. Programming exercises"
   ]
  },
  {
   "cell_type": "markdown",
   "metadata": {},
   "source": [
    "### Problem 4\n",
    "Let a = 0.7, b = 0.2, and c = 0.1"
   ]
  },
  {
   "cell_type": "code",
   "execution_count": 9,
   "metadata": {},
   "outputs": [],
   "source": [
    "a = 0.7\n",
    "b = 0.2 \n",
    "c = 0.1"
   ]
  },
  {
   "cell_type": "code",
   "execution_count": 10,
   "metadata": {},
   "outputs": [
    {
     "data": {
      "text/plain": [
       "0.9999999999999999"
      ]
     },
     "execution_count": 10,
     "metadata": {},
     "output_type": "execute_result"
    }
   ],
   "source": [
    "# Test (a+b)+c\n",
    "(a+b)+c"
   ]
  },
  {
   "cell_type": "code",
   "execution_count": 11,
   "metadata": {},
   "outputs": [
    {
     "data": {
      "text/plain": [
       "1.0"
      ]
     },
     "execution_count": 11,
     "metadata": {},
     "output_type": "execute_result"
    }
   ],
   "source": [
    "# Test a+(b+c)\n",
    "a+(b+c)"
   ]
  },
  {
   "cell_type": "code",
   "execution_count": 12,
   "metadata": {},
   "outputs": [
    {
     "data": {
      "text/plain": [
       "1.0"
      ]
     },
     "execution_count": 12,
     "metadata": {},
     "output_type": "execute_result"
    }
   ],
   "source": [
    "# Test (a+c)+b\n",
    "(a+c)+b"
   ]
  },
  {
   "cell_type": "markdown",
   "metadata": {},
   "source": [
    "We were able to get exact value of 1.0 as an answer except when we compute (a+b)+c. Since the float type in Python follows double precision of the IEEE Standard 754 model, Python stores float type number in to the memory as slightly different value. Therefore, when we print out 0.7, 0.2, and 0.1 up to 10^-56 places, we would get the values below. "
   ]
  },
  {
   "cell_type": "code",
   "execution_count": 13,
   "metadata": {},
   "outputs": [
    {
     "name": "stdout",
     "output_type": "stream",
     "text": [
      "0.69999999999999995559107901499373838305473327636718750000\n",
      "0.20000000000000001110223024625156540423631668090820312500\n",
      "0.10000000000000000555111512312578270211815834045410156250\n"
     ]
    }
   ],
   "source": [
    "# Print out the actual decimal points of each floats. \n",
    "print(format(0.7, '.56f')) \n",
    "print(format(0.2, '.56f'))\n",
    "print(format(0.1, '.56f'))"
   ]
  },
  {
   "cell_type": "markdown",
   "metadata": {},
   "source": [
    "The numbers above are the actual float point that Python uses for 0.7, 0.2, 0.1. Due to this, when we add 0.7 and 0.2 first and print out the result up to 10^-56 places, we get the number very slightly lower than 0.9. These subtle differences make Python to show us `0.9999...` when we add 0.7 and 0.2 first and add 0.1 later.  "
   ]
  },
  {
   "cell_type": "markdown",
   "metadata": {},
   "source": [
    "### Problem 5\n",
    "\n",
    "Create the vector v = (969,971,972,...,1022,1023), which has 54 elements"
   ]
  },
  {
   "cell_type": "code",
   "execution_count": 136,
   "metadata": {},
   "outputs": [
    {
     "name": "stdout",
     "output_type": "stream",
     "text": [
      "[ 969  971  972  973  974  975  976  977  978  979  980  981  982  983\n",
      "  984  985  986  987  988  989  990  991  992  993  994  995  996  997\n",
      "  998  999 1000 1001 1002 1003 1004 1005 1006 1007 1008 1009 1010 1011\n",
      " 1012 1013 1014 1015 1016 1017 1018 1019 1020 1021 1022 1023]\n"
     ]
    }
   ],
   "source": [
    "import numpy as np\n",
    "\n",
    "# Creat the vector v. \n",
    "vector_v = np.array(range(969, 1024))\n",
    "\n",
    "# delete 970\n",
    "vector_v = np.delete(vector_v, [1])\n",
    "\n",
    "print(vector_v)"
   ]
  },
  {
   "cell_type": "code",
   "execution_count": 15,
   "metadata": {},
   "outputs": [
    {
     "name": "stdout",
     "output_type": "stream",
     "text": [
      "1.7976931348623157e+308\n"
     ]
    }
   ],
   "source": [
    "\n",
    "ans = 0\n",
    "\n",
    "# change elements to float and compute when i = 1\n",
    "for i in range(len(vector_v)):\n",
    "    ans += 2**float(vector_v[i])\n",
    "\n",
    "print(ans)"
   ]
  },
  {
   "cell_type": "code",
   "execution_count": 16,
   "metadata": {},
   "outputs": [
    {
     "name": "stdout",
     "output_type": "stream",
     "text": [
      "1.7976931348623157e+308\n"
     ]
    }
   ],
   "source": [
    "ans = 0\n",
    "\n",
    "# compute when i = 2  \n",
    "for i in range(1, len(vector_v)):\n",
    "    ans += 2**float(vector_v[i])\n",
    "\n",
    "print(ans)"
   ]
  },
  {
   "cell_type": "code",
   "execution_count": 17,
   "metadata": {},
   "outputs": [
    {
     "data": {
      "text/plain": [
       "1.7976931348623157e+308"
      ]
     },
     "execution_count": 17,
     "metadata": {},
     "output_type": "execute_result"
    }
   ],
   "source": [
    "ans = 0\n",
    "\n",
    "# compute 2^v1 + vector sum\n",
    "for i in range(1, len(vector_v)):\n",
    "    ans += 2**float(vector_v[i])\n",
    "\n",
    "2**float(vector_v[0]) + ans"
   ]
  },
  {
   "cell_type": "markdown",
   "metadata": {},
   "source": [
    "We were able to get the same result for all three questions above, even if there were large difference in computing the formular. For instance, although we did not add `2**969` in the second bullet problem, we got the same result as the first bullet point. This happened because of the overflow error. The result is too large so that it exceeded the limit that Python could represent. "
   ]
  },
  {
   "cell_type": "markdown",
   "metadata": {},
   "source": [
    "### Problem 6\n",
    "\n",
    "Create the vector x = (0.988,0.989,0.990,···1.010, 1.011, 1.012)."
   ]
  },
  {
   "cell_type": "code",
   "execution_count": 18,
   "metadata": {},
   "outputs": [
    {
     "name": "stdout",
     "output_type": "stream",
     "text": [
      "[0.988 0.989 0.99  0.991 0.992 0.993 0.994 0.995 0.996 0.997 0.998 0.999\n",
      " 1.    1.001 1.002 1.003 1.004 1.005 1.006 1.007 1.008 1.009 1.01  1.011\n",
      " 1.012]\n"
     ]
    }
   ],
   "source": [
    "# create a vector of range(0.988, 1.012)\n",
    "\n",
    "vector_x = np.arange(0.988, 1.012, 0.001)\n",
    "print(vector_x)"
   ]
  },
  {
   "cell_type": "markdown",
   "metadata": {},
   "source": []
  },
  {
   "cell_type": "code",
   "execution_count": 19,
   "metadata": {},
   "outputs": [
    {
     "data": {
      "text/plain": [
       "[<matplotlib.lines.Line2D at 0x218fc4a4670>]"
      ]
     },
     "execution_count": 19,
     "metadata": {},
     "output_type": "execute_result"
    },
    {
     "data": {
      "image/png": "[encoded data removed]",
      "text/plain": [
       "<Figure size 432x288 with 1 Axes>"
      ]
     },
     "metadata": {
      "needs_background": "light"
     },
     "output_type": "display_data"
    }
   ],
   "source": [
    "# Import matplot library module to use plot function\n",
    "import matplotlib.pyplot as plt\n",
    "\n",
    "# Formula\n",
    "yval = vector_x**7 - 7*vector_x**6 + 21*vector_x**5 - 35*vector_x**4 + 35*vector_x**3 - 21*vector_x**2 + 7*vector_x - 1\n",
    "\n",
    "# x represents each value in vector_x and y represents the y value of each corresponding x value    \n",
    "plt.plot(vector_x, yval)\n"
   ]
  },
  {
   "cell_type": "code",
   "execution_count": 64,
   "metadata": {},
   "outputs": [
    {
     "data": {
      "text/plain": [
       "[<matplotlib.lines.Line2D at 0x218fc586f70>]"
      ]
     },
     "execution_count": 64,
     "metadata": {},
     "output_type": "execute_result"
    },
    {
     "data": {
      "image/png": "[encoded data removed]",
      "text/plain": [
       "<Figure size 432x288 with 1 Axes>"
      ]
     },
     "metadata": {
      "needs_background": "light"
     },
     "output_type": "display_data"
    }
   ],
   "source": [
    "\n",
    "# Formula\n",
    "yval = (vector_x - 1)**7\n",
    "\n",
    "plt.plot(vector_x, yval)"
   ]
  },
  {
   "cell_type": "markdown",
   "metadata": {},
   "source": [
    "Explain What you fidn"
   ]
  },
  {
   "cell_type": "markdown",
   "metadata": {},
   "source": [
    "### Problem 7\n",
    "Basic exercises using numpy or R: let u = (1,2,3,3,2,1)′\n"
   ]
  },
  {
   "cell_type": "code",
   "execution_count": 21,
   "metadata": {},
   "outputs": [],
   "source": [
    "# Create a vector array with transpose\n",
    "u = np.matrix([1,2,3,3,2,1]).T"
   ]
  },
  {
   "cell_type": "code",
   "execution_count": 135,
   "metadata": {},
   "outputs": [
    {
     "name": "stdout",
     "output_type": "stream",
     "text": [
      "[[ 0.92857143 -0.14285714 -0.21428571 -0.21428571 -0.14285714 -0.07142857]\n",
      " [-0.14285714  0.71428571 -0.42857143 -0.42857143 -0.28571429 -0.14285714]\n",
      " [-0.21428571 -0.42857143  0.35714286 -0.64285714 -0.42857143 -0.21428571]\n",
      " [-0.21428571 -0.42857143 -0.64285714  0.35714286 -0.42857143 -0.21428571]\n",
      " [-0.14285714 -0.28571429 -0.42857143 -0.42857143  0.71428571 -0.14285714]\n",
      " [-0.07142857 -0.14285714 -0.21428571 -0.21428571 -0.14285714  0.92857143]]\n"
     ]
    }
   ],
   "source": [
    "# a)\n",
    "# Create an identity matirx \n",
    "I = np.identity(6)\n",
    "\n",
    "u = np.matrix([1,2,3,3,2,1]).T\n",
    "\n",
    "# change the scalar value to float type to prevent error.\n",
    "S = float(2/(u.T*u))\n",
    "U = I - S*(u*u.T)\n",
    "\n",
    "print(U)"
   ]
  },
  {
   "cell_type": "code",
   "execution_count": 182,
   "metadata": {},
   "outputs": [
    {
     "name": "stdout",
     "output_type": "stream",
     "text": [
      "Matrix C: \n",
      "[[ 1.00000000e+00 -2.46401539e-17 -5.55111512e-17 -4.38991247e-17\n",
      "  -2.77555756e-17 -1.92589708e-17]\n",
      " [-2.46401539e-17  1.00000000e+00 -7.59030027e-17 -1.11022302e-16\n",
      "  -4.48195902e-17 -2.77555756e-17]\n",
      " [-5.55111512e-17 -7.59030027e-17  1.00000000e+00 -7.22211406e-17\n",
      "  -1.11022302e-16 -4.48903953e-17]\n",
      " [-4.38991247e-17 -1.11022302e-16 -7.22211406e-17  1.00000000e+00\n",
      "  -8.97807905e-17 -8.32667268e-17]\n",
      " [-2.08166817e-17 -5.55111512e-17 -9.71445147e-17 -5.55111512e-17\n",
      "   1.00000000e+00 -4.16333634e-17]\n",
      " [-1.38777878e-17 -2.77555756e-17 -5.55111512e-17 -8.32667268e-17\n",
      "  -4.16333634e-17  1.00000000e+00]]\n"
     ]
    }
   ],
   "source": [
    "# b)\n",
    "\n",
    "# use numpy matmul function since it is matrix matrix multiplication\n",
    "C = np.matmul(U,U)\n",
    "\n",
    "lst = []\n",
    "\n",
    "# append each element in the matrix C to lst variable except the diagonal\n",
    "for i in range(len(C)):\n",
    "    for j in range(len(C)):\n",
    "        if C[i,j] <= 0:\n",
    "            lst.append(C[i,j])\n",
    "\n",
    "print(\"Matrix C: \")\n",
    "\n",
    "print(C)"
   ]
  },
  {
   "cell_type": "code",
   "execution_count": 183,
   "metadata": {},
   "outputs": [
    {
     "name": "stdout",
     "output_type": "stream",
     "text": [
      "The largest off-diagonal elements of C: -1.3877787807814457e-17\n",
      "The smallest off-diagonal elements of C: -1.1102230246251565e-16\n"
     ]
    }
   ],
   "source": [
    "print(f\"The largest off-diagonal elements of C: {max(lst)}\")\n",
    "print(f\"The smallest off-diagonal elements of C: {min(lst)}\")"
   ]
  },
  {
   "cell_type": "code",
   "execution_count": 120,
   "metadata": {},
   "outputs": [
    {
     "name": "stdout",
     "output_type": "stream",
     "text": [
      "The largest diagonal elements of C: 1.0\n",
      "The smallest diagonal elements of C: 0.9999999999999998\n"
     ]
    }
   ],
   "source": [
    "# c)\n",
    "# Largest and Smallest diagonal elements of C\n",
    "\n",
    "lst2 = []\n",
    "\n",
    "# append each diagonal element in the lst2 variable\n",
    "for i in range(len(C)):\n",
    "    for j in range(len(C)):\n",
    "        if C[i,j] > 0:\n",
    "            lst2.append(C[i,j])\n",
    "\n",
    "print(f\"The largest diagonal elements of C: {max(lst2)}\")\n",
    "print(f\"The smallest diagonal elements of C: {min(lst2)}\")"
   ]
  },
  {
   "cell_type": "code",
   "execution_count": 126,
   "metadata": {},
   "outputs": [
    {
     "data": {
      "text/plain": [
       "2.2857142857142856"
      ]
     },
     "execution_count": 126,
     "metadata": {},
     "output_type": "execute_result"
    }
   ],
   "source": [
    "# e)\n",
    "# Find maximum absolute row sum of the matrix U\n",
    "\n",
    "# By using linalg.norm function in numpy, \n",
    "# we can easily get the maximum absolute row sum\n",
    "\n",
    "np.linalg.norm(U, np.inf) #inf-norm of matrix U"
   ]
  },
  {
   "cell_type": "code",
   "execution_count": 131,
   "metadata": {},
   "outputs": [
    {
     "name": "stdout",
     "output_type": "stream",
     "text": [
      "[[-0.21428571 -0.42857143  0.35714286 -0.64285714 -0.42857143 -0.21428571]]\n"
     ]
    }
   ],
   "source": [
    "# f)\n",
    "# Print the third row of U.\n",
    "\n",
    "print(U[2])"
   ]
  },
  {
   "cell_type": "code",
   "execution_count": 140,
   "metadata": {},
   "outputs": [
    {
     "name": "stdout",
     "output_type": "stream",
     "text": [
      "-0.42857142857142855\n"
     ]
    }
   ],
   "source": [
    "# g) \n",
    "# Print the elements of the second column below the diagonal\n",
    "\n",
    "print(U[1,3])"
   ]
  },
  {
   "cell_type": "code",
   "execution_count": 185,
   "metadata": {},
   "outputs": [
    {
     "name": "stdout",
     "output_type": "stream",
     "text": [
      "[[ 9.28571429e-01 -1.42857143e-01 -2.14285714e-01 -3.54025199e-17\n",
      "  -2.88884563e-17 -1.44442281e-17]\n",
      " [-1.42857143e-01  7.14285714e-01 -4.28571429e-01 -1.52938886e-17\n",
      "  -2.26576127e-18 -1.13288064e-18]\n",
      " [-2.14285714e-01 -4.28571429e-01  3.57142857e-01 -4.07837029e-17\n",
      "  -4.30494642e-17 -2.15247321e-17]\n",
      " [-3.54025199e-17 -1.52938886e-17 -4.07837029e-17  6.42857143e-01\n",
      "   4.28571429e-01  2.14285714e-01]\n",
      " [-2.88884563e-17 -2.26576127e-18 -4.30494642e-17  4.28571429e-01\n",
      "   2.85714286e-01  1.42857143e-01]\n",
      " [-1.44442281e-17 -1.13288064e-18 -2.15247321e-17  2.14285714e-01\n",
      "   1.42857143e-01  7.14285714e-02]]\n"
     ]
    }
   ],
   "source": [
    "# h)\n",
    "# compute P = AA'\n",
    "\n",
    "# A => first three columns of U\n",
    "A = U[0:3,].T\n",
    "\n",
    "# Use numpy.matmul function\n",
    "P = np.matmul(A,A.T)\n",
    "\n",
    "print(P)"
   ]
  },
  {
   "cell_type": "code",
   "execution_count": 186,
   "metadata": {},
   "outputs": [
    {
     "name": "stdout",
     "output_type": "stream",
     "text": [
      "2.43852557194454e-16\n"
     ]
    }
   ],
   "source": [
    "# i)\n",
    "# Show that P is idempotent\n",
    "\n",
    "PI = np.matmul(P,P) - P\n",
    "\n",
    "# Calculate inf-norm of PP - P\n",
    "print(np.linalg.norm(PI, np.inf))"
   ]
  },
  {
   "cell_type": "code",
   "execution_count": 191,
   "metadata": {},
   "outputs": [
    {
     "name": "stdout",
     "output_type": "stream",
     "text": [
      "[[ 7.14285714e-02  1.42857143e-01  2.14285714e-01 -2.38967009e-17\n",
      "  -7.25751658e-18 -8.21338462e-18]\n",
      " [ 1.42857143e-01  2.85714286e-01  4.28571429e-01 -4.77934019e-17\n",
      "  -1.45150332e-17 -1.64267692e-17]\n",
      " [ 2.14285714e-01  4.28571429e-01  6.42857143e-01 -2.83220159e-17\n",
      "  -2.00378263e-17 -2.46401539e-17]\n",
      " [-2.38967009e-17 -4.77934019e-17 -2.83220159e-17  3.57142857e-01\n",
      "  -4.28571429e-01 -2.14285714e-01]\n",
      " [-7.25751658e-18 -1.45150332e-17 -2.00378263e-17 -4.28571429e-01\n",
      "   7.14285714e-01 -1.42857143e-01]\n",
      " [-8.21338462e-18 -1.64267692e-17 -2.46401539e-17 -2.14285714e-01\n",
      "  -1.42857143e-01  9.28571429e-01]]\n"
     ]
    }
   ],
   "source": [
    "# j)\n",
    "# Let B the last three columns of U. \n",
    "# Compute Q = BB'\n",
    "\n",
    "# Last three columns of U\n",
    "B = U[3:,].T\n",
    "\n",
    "# Compute Q = BB'\n",
    "Q = np.matmul(B,B.T)\n",
    "print(Q)"
   ]
  },
  {
   "cell_type": "code",
   "execution_count": 192,
   "metadata": {},
   "outputs": [
    {
     "name": "stdout",
     "output_type": "stream",
     "text": [
      "3.039660360150381e-16\n"
     ]
    }
   ],
   "source": [
    "# k)\n",
    "\n",
    "# Show that Q is idempotent\n",
    "\n",
    "QI = np.matmul(Q,Q) - Q\n",
    "\n",
    "# Calculate inf-norm of QQ - Q\n",
    "print(np.linalg.norm(QI, np.inf))\n"
   ]
  },
  {
   "cell_type": "code",
   "execution_count": 194,
   "metadata": {},
   "outputs": [
    {
     "name": "stdout",
     "output_type": "stream",
     "text": [
      "[[ 1.00000000e+00 -2.77555756e-17 -5.55111512e-17 -5.92992209e-17\n",
      "  -3.61459728e-17 -2.26576127e-17]\n",
      " [-2.77555756e-17  1.00000000e+00 -5.55111512e-17 -6.30872905e-17\n",
      "  -1.67807944e-17 -1.75596499e-17]\n",
      " [-5.55111512e-17 -5.55111512e-17  1.00000000e+00 -6.91057189e-17\n",
      "  -6.30872905e-17 -4.61648860e-17]\n",
      " [-5.92992209e-17 -6.30872905e-17 -6.91057189e-17  1.00000000e+00\n",
      "  -1.11022302e-16 -5.55111512e-17]\n",
      " [-3.61459728e-17 -1.67807944e-17 -6.30872905e-17 -1.11022302e-16\n",
      "   1.00000000e+00  0.00000000e+00]\n",
      " [-2.26576127e-17 -1.75596499e-17 -4.61648860e-17 -5.55111512e-17\n",
      "   0.00000000e+00  1.00000000e+00]]\n"
     ]
    }
   ],
   "source": [
    "# l)\n",
    "# compute P + Q\n",
    "print(P + Q)"
   ]
  },
  {
   "cell_type": "markdown",
   "metadata": {},
   "source": [
    "### Problem 8"
   ]
  },
  {
   "cell_type": "code",
   "execution_count": 248,
   "metadata": {},
   "outputs": [
    {
     "data": {
      "text/html": [
       "<div>\n",
       "<style scoped>\n",
       "    .dataframe tbody tr th:only-of-type {\n",
       "        vertical-align: middle;\n",
       "    }\n",
       "\n",
       "    .dataframe tbody tr th {\n",
       "        vertical-align: top;\n",
       "    }\n",
       "\n",
       "    .dataframe thead th {\n",
       "        text-align: right;\n",
       "    }\n",
       "</style>\n",
       "<table border=\"1\" class=\"dataframe\">\n",
       "  <thead>\n",
       "    <tr style=\"text-align: right;\">\n",
       "      <th></th>\n",
       "      <th>flight_num</th>\n",
       "      <th>date</th>\n",
       "      <th>O_rings</th>\n",
       "      <th>failed_num</th>\n",
       "      <th>temp</th>\n",
       "    </tr>\n",
       "  </thead>\n",
       "  <tbody>\n",
       "    <tr>\n",
       "      <th>19</th>\n",
       "      <td>51-J</td>\n",
       "      <td>10/03/85</td>\n",
       "      <td>6</td>\n",
       "      <td>0</td>\n",
       "      <td>79</td>\n",
       "    </tr>\n",
       "    <tr>\n",
       "      <th>20</th>\n",
       "      <td>61-A</td>\n",
       "      <td>10/30/85</td>\n",
       "      <td>6</td>\n",
       "      <td>2</td>\n",
       "      <td>75</td>\n",
       "    </tr>\n",
       "    <tr>\n",
       "      <th>21</th>\n",
       "      <td>61-B</td>\n",
       "      <td>11/26/85</td>\n",
       "      <td>6</td>\n",
       "      <td>0</td>\n",
       "      <td>76</td>\n",
       "    </tr>\n",
       "    <tr>\n",
       "      <th>22</th>\n",
       "      <td>61-C</td>\n",
       "      <td>1/12/86</td>\n",
       "      <td>6</td>\n",
       "      <td>1</td>\n",
       "      <td>58</td>\n",
       "    </tr>\n",
       "    <tr>\n",
       "      <th>23</th>\n",
       "      <td>61-I</td>\n",
       "      <td>1/28/86</td>\n",
       "      <td>6</td>\n",
       "      <td>NA</td>\n",
       "      <td>31</td>\n",
       "    </tr>\n",
       "  </tbody>\n",
       "</table>\n",
       "</div>"
      ],
      "text/plain": [
       "   flight_num        date  O_rings failed_num  temp\n",
       "19      51-J    10/03/85         6         0     79\n",
       "20      61-A    10/30/85         6         2     75\n",
       "21      61-B   11/26/85          6        0      76\n",
       "22      61-C     1/12/86         6         1     58\n",
       "23      61-I     1/28/86         6         NA    31"
      ]
     },
     "execution_count": 248,
     "metadata": {},
     "output_type": "execute_result"
    }
   ],
   "source": [
    "# import pandas to read the data\n",
    "import pandas as pd\n",
    "\n",
    "# read oringp data\n",
    "df = pd.read_csv(\"oringp.dat\", header=None, sep=\",\")\n",
    "\n",
    "# rename the column name \n",
    "df.rename(columns={0:\"flight_num\", 1:\"date\", 2:\"O_rings\", 3:\"failed_num\", 4:\"temp\"}, inplace=True)\n",
    "\n",
    "df.tail()"
   ]
  },
  {
   "cell_type": "code",
   "execution_count": 249,
   "metadata": {},
   "outputs": [
    {
     "data": {
      "text/html": [
       "<div>\n",
       "<style scoped>\n",
       "    .dataframe tbody tr th:only-of-type {\n",
       "        vertical-align: middle;\n",
       "    }\n",
       "\n",
       "    .dataframe tbody tr th {\n",
       "        vertical-align: top;\n",
       "    }\n",
       "\n",
       "    .dataframe thead th {\n",
       "        text-align: right;\n",
       "    }\n",
       "</style>\n",
       "<table border=\"1\" class=\"dataframe\">\n",
       "  <thead>\n",
       "    <tr style=\"text-align: right;\">\n",
       "      <th></th>\n",
       "      <th>flight_num</th>\n",
       "      <th>date</th>\n",
       "      <th>O_rings</th>\n",
       "      <th>failed_num</th>\n",
       "      <th>temp</th>\n",
       "    </tr>\n",
       "  </thead>\n",
       "  <tbody>\n",
       "    <tr>\n",
       "      <th>18</th>\n",
       "      <td>51-I</td>\n",
       "      <td>8/27/85</td>\n",
       "      <td>6</td>\n",
       "      <td>0</td>\n",
       "      <td>76</td>\n",
       "    </tr>\n",
       "    <tr>\n",
       "      <th>19</th>\n",
       "      <td>51-J</td>\n",
       "      <td>10/03/85</td>\n",
       "      <td>6</td>\n",
       "      <td>0</td>\n",
       "      <td>79</td>\n",
       "    </tr>\n",
       "    <tr>\n",
       "      <th>20</th>\n",
       "      <td>61-A</td>\n",
       "      <td>10/30/85</td>\n",
       "      <td>6</td>\n",
       "      <td>2</td>\n",
       "      <td>75</td>\n",
       "    </tr>\n",
       "    <tr>\n",
       "      <th>21</th>\n",
       "      <td>61-B</td>\n",
       "      <td>11/26/85</td>\n",
       "      <td>6</td>\n",
       "      <td>0</td>\n",
       "      <td>76</td>\n",
       "    </tr>\n",
       "    <tr>\n",
       "      <th>22</th>\n",
       "      <td>61-C</td>\n",
       "      <td>1/12/86</td>\n",
       "      <td>6</td>\n",
       "      <td>1</td>\n",
       "      <td>58</td>\n",
       "    </tr>\n",
       "  </tbody>\n",
       "</table>\n",
       "</div>"
      ],
      "text/plain": [
       "   flight_num        date  O_rings failed_num  temp\n",
       "18      51-I    8/27/85          6         0     76\n",
       "19      51-J    10/03/85         6         0     79\n",
       "20      61-A    10/30/85         6         2     75\n",
       "21      61-B   11/26/85          6        0      76\n",
       "22      61-C     1/12/86         6         1     58"
      ]
     },
     "execution_count": 249,
     "metadata": {},
     "output_type": "execute_result"
    }
   ],
   "source": [
    "# Drop the row that contains NA (Here, it is the last row)\n",
    "df.drop([23],inplace=True)\n",
    "df.tail()"
   ]
  },
  {
   "cell_type": "code",
   "execution_count": 250,
   "metadata": {},
   "outputs": [
    {
     "data": {
      "text/plain": [
       "flight_num    object\n",
       "date          object\n",
       "O_rings        int64\n",
       "failed_num     int64\n",
       "temp           int64\n",
       "dtype: object"
      ]
     },
     "execution_count": 250,
     "metadata": {},
     "output_type": "execute_result"
    }
   ],
   "source": [
    "# Since failed number column type is object, \n",
    "# convert it to int64 type\n",
    "df['failed_num'] = pd.to_numeric(df['failed_num'])\n",
    "\n",
    "df.dtypes"
   ]
  },
  {
   "cell_type": "code",
   "execution_count": 253,
   "metadata": {},
   "outputs": [
    {
     "name": "stdout",
     "output_type": "stream",
     "text": [
      "The correlation between number of failures and temperature at launch: -0.5613284258418356\n"
     ]
    }
   ],
   "source": [
    "# Compute correlation between number of failures and temperature at launch\n",
    "corr = df['failed_num'].corr(df['temp'])\n",
    "\n",
    "print(f\"The correlation between number of failures and temperature at launch: {corr}\")"
   ]
  },
  {
   "cell_type": "markdown",
   "metadata": {},
   "source": [
    "### Problem 9"
   ]
  },
  {
   "cell_type": "code",
   "execution_count": 259,
   "metadata": {},
   "outputs": [],
   "source": [
    "# Create a function solving linear algebra for matrix\n",
    "def solve_power(A, k, b):\n",
    "    temp = np.power(A,k) # A**k\n",
    "    return np.linalg.solve(temp,b) # use numpy.linalg.solve function"
   ]
  },
  {
   "cell_type": "code",
   "execution_count": 262,
   "metadata": {},
   "outputs": [
    {
     "name": "stdout",
     "output_type": "stream",
     "text": [
      "[ 4.63333333 -1.03333333]\n"
     ]
    }
   ],
   "source": [
    "# generate a random matrix to check the solve_power function\n",
    "A = np.array([ [3,-9], [2,4] ])\n",
    "b = np.array([-42,2])\n",
    "k = 2\n",
    "\n",
    "print(solve_power(A,k,b))"
   ]
  }
 ],
 "metadata": {
  "interpreter": {
   "hash": "7321a5fba119b77a6c5257a79a997d666438dc55056a68a660698298aae01e26"
  },
  "kernelspec": {
   "display_name": "Python 3.8.5 64-bit ('base': conda)",
   "language": "python",
   "name": "python3"
  },
  "language_info": {
   "codemirror_mode": {
    "name": "ipython",
    "version": 3
   },
   "file_extension": ".py",
   "mimetype": "text/x-python",
   "name": "python",
   "nbconvert_exporter": "python",
   "pygments_lexer": "ipython3",
   "version": "3.8.5"
  },
  "orig_nbformat": 4
 },
 "nbformat": 4,
 "nbformat_minor": 2
}
