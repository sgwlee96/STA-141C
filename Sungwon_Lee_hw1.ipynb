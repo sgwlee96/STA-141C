{
 "cells": [
  {
   "cell_type": "markdown",
   "metadata": {},
   "source": [
    "## 2. Programming exercises"
   ]
  },
  {
   "cell_type": "markdown",
   "metadata": {},
   "source": [
    "### Problem 4\n",
    "Let a = 0.7, b = 0.2, and c = 0.1"
   ]
  },
  {
   "cell_type": "code",
   "execution_count": 2,
   "metadata": {},
   "outputs": [],
   "source": [
    "a = 0.7\n",
    "b = 0.2 \n",
    "c = 0.1"
   ]
  },
  {
   "cell_type": "code",
   "execution_count": 3,
   "metadata": {},
   "outputs": [
    {
     "data": {
      "text/plain": [
       "0.9999999999999999"
      ]
     },
     "execution_count": 3,
     "metadata": {},
     "output_type": "execute_result"
    }
   ],
   "source": [
    "# Test (a+b)+c\n",
    "(a+b)+c"
   ]
  },
  {
   "cell_type": "code",
   "execution_count": 4,
   "metadata": {},
   "outputs": [
    {
     "data": {
      "text/plain": [
       "1.0"
      ]
     },
     "execution_count": 4,
     "metadata": {},
     "output_type": "execute_result"
    }
   ],
   "source": [
    "# Test a+(b+c)\n",
    "a+(b+c)"
   ]
  },
  {
   "cell_type": "code",
   "execution_count": 5,
   "metadata": {},
   "outputs": [
    {
     "data": {
      "text/plain": [
       "1.0"
      ]
     },
     "execution_count": 5,
     "metadata": {},
     "output_type": "execute_result"
    }
   ],
   "source": [
    "# Test (a+c)+b\n",
    "(a+c)+b"
   ]
  },
  {
   "cell_type": "markdown",
   "metadata": {},
   "source": [
    "We were able to get exact value of 1.0 as an answer except when we compute (a+b)+c. Since the float type in Python follows double precision of the IEEE Standard 754 model, Python stores float type number in to the memory as slightly different value. Therefore, when we print out 0.7, 0.2, and 0.1 up to 10^-56 places, we would get the values below. "
   ]
  },
  {
   "cell_type": "code",
   "execution_count": 59,
   "metadata": {},
   "outputs": [
    {
     "name": "stdout",
     "output_type": "stream",
     "text": [
      "0.69999999999999995559107901499373838305473327636718750000\n",
      "0.20000000000000001110223024625156540423631668090820312500\n",
      "0.10000000000000000555111512312578270211815834045410156250\n"
     ]
    }
   ],
   "source": [
    "# Print out the actual decimal points of each floats. \n",
    "print(format(0.7, '.56f')) \n",
    "print(format(0.2, '.56f'))\n",
    "print(format(0.1, '.56f'))"
   ]
  },
  {
   "cell_type": "markdown",
   "metadata": {},
   "source": [
    "The numbers above are the actual float point that Python uses for 0.7, 0.2, 0.1. Due to this, when we add 0.7 and 0.2 first and print out the result up to 10^-56 places, we get the number very slightly lower than 0.9. These subtle differences make Python to show us `0.9999...` when we add 0.7 and 0.2 first and add 0.1 later.  "
   ]
  },
  {
   "cell_type": "markdown",
   "metadata": {},
   "source": [
    "### Problem 5\n",
    "\n",
    "Create the vector v = (969,971,972,...,1022,1023), which has 54 elements"
   ]
  },
  {
   "cell_type": "code",
   "execution_count": 149,
   "metadata": {},
   "outputs": [
    {
     "data": {
      "text/plain": [
       "array([ 969,  971,  972,  973,  974,  975,  976,  977,  978,  979,  980,\n",
       "        981,  982,  983,  984,  985,  986,  987,  988,  989,  990,  991,\n",
       "        992,  993,  994,  995,  996,  997,  998,  999, 1000, 1001, 1002,\n",
       "       1003, 1004, 1005, 1006, 1007, 1008, 1009, 1010, 1011, 1012, 1013,\n",
       "       1014, 1015, 1016, 1017, 1018, 1019, 1020, 1021, 1022, 1023])"
      ]
     },
     "execution_count": 149,
     "metadata": {},
     "output_type": "execute_result"
    }
   ],
   "source": [
    "import numpy as np\n",
    "\n",
    "# Creat the vector v. \n",
    "vector_v = np.array(range(969, 1024))\n",
    "\n",
    "# delete 970\n",
    "vector_v = np.delete(vector_v, [1])\n",
    "\n",
    "vector_v"
   ]
  },
  {
   "cell_type": "code",
   "execution_count": 207,
   "metadata": {},
   "outputs": [
    {
     "name": "stdout",
     "output_type": "stream",
     "text": [
      "1.7976931348623157e+308\n"
     ]
    }
   ],
   "source": [
    "\n",
    "ans = 0\n",
    "\n",
    "# change elements to float and compute when i = 1\n",
    "for i in range(len(vector_v)):\n",
    "    ans += 2**float(vector_v[i])\n",
    "\n",
    "print(ans)"
   ]
  },
  {
   "cell_type": "code",
   "execution_count": 208,
   "metadata": {},
   "outputs": [
    {
     "name": "stdout",
     "output_type": "stream",
     "text": [
      "1.7976931348623157e+308\n"
     ]
    }
   ],
   "source": [
    "ans = 0\n",
    "\n",
    "# compute when i = 2  \n",
    "for i in range(1, len(vector_v)):\n",
    "    ans += 2**float(vector_v[i])\n",
    "\n",
    "print(ans)"
   ]
  },
  {
   "cell_type": "code",
   "execution_count": 209,
   "metadata": {},
   "outputs": [
    {
     "data": {
      "text/plain": [
       "1.7976931348623157e+308"
      ]
     },
     "execution_count": 209,
     "metadata": {},
     "output_type": "execute_result"
    }
   ],
   "source": [
    "ans = 0\n",
    "\n",
    "# compute 2^v1 + vector sum\n",
    "for i in range(1, len(vector_v)):\n",
    "    ans += 2**float(vector_v[i])\n",
    "\n",
    "2**float(vector_v[0]) + ans"
   ]
  },
  {
   "cell_type": "markdown",
   "metadata": {},
   "source": [
    "Explain what you find"
   ]
  },
  {
   "cell_type": "markdown",
   "metadata": {},
   "source": [
    "### Problem 6\n",
    "\n",
    "Create the vector x = (0.988,0.989,0.990,···1.010, 1.011, 1.012)."
   ]
  },
  {
   "cell_type": "code",
   "execution_count": 167,
   "metadata": {},
   "outputs": [
    {
     "name": "stdout",
     "output_type": "stream",
     "text": [
      "[0.988 0.989 0.99  0.991 0.992 0.993 0.994 0.995 0.996 0.997 0.998 0.999\n",
      " 1.    1.001 1.002 1.003 1.004 1.005 1.006 1.007 1.008 1.009 1.01  1.011\n",
      " 1.012]\n"
     ]
    }
   ],
   "source": [
    "# create a vector of range(0.988, 1.012)\n",
    "vector_x = np.arange(0.988, 1.012, 0.001)\n",
    "print(vector_x)"
   ]
  },
  {
   "cell_type": "code",
   "execution_count": 170,
   "metadata": {},
   "outputs": [
    {
     "data": {
      "text/plain": [
       "[<matplotlib.lines.Line2D at 0x1b087a2a220>]"
      ]
     },
     "execution_count": 170,
     "metadata": {},
     "output_type": "execute_result"
    },
    {
     "data": {
      "image/png": "[encoded data removed]",
      "text/plain": [
       "<Figure size 432x288 with 1 Axes>"
      ]
     },
     "metadata": {
      "needs_background": "light"
     },
     "output_type": "display_data"
    }
   ],
   "source": [
    "import matplotlib.pyplot as plt\n",
    "\n",
    "ylst = []\n",
    "\n",
    "for i in range(len(vector_x)):\n",
    "    yval = vector_x[i]**7 - 7*vector_x[i]**6 + 21*vector_x[i]**5 - 35*vector_x[i]**4 - 21*vector_x[i]**2 + 7*vector_x[i] - 1\n",
    "    ylst.append(yval)\n",
    "\n",
    "plt.plot(vector_x, ylst)\n"
   ]
  },
  {
   "cell_type": "code",
   "execution_count": 171,
   "metadata": {},
   "outputs": [
    {
     "data": {
      "text/plain": [
       "[<matplotlib.lines.Line2D at 0x1b087b035e0>]"
      ]
     },
     "execution_count": 171,
     "metadata": {},
     "output_type": "execute_result"
    },
    {
     "data": {
      "image/png": "[encoded data removed]",
      "text/plain": [
       "<Figure size 432x288 with 1 Axes>"
      ]
     },
     "metadata": {
      "needs_background": "light"
     },
     "output_type": "display_data"
    }
   ],
   "source": [
    "ylst = []\n",
    "\n",
    "for i in range(len(vector_x)):\n",
    "    yval = (vector_x[i] - 1)**7\n",
    "    ylst.append(yval)\n",
    "\n",
    "plt.plot(vector_x, ylst)"
   ]
  },
  {
   "cell_type": "markdown",
   "metadata": {},
   "source": [
    "Explain What you fidn"
   ]
  },
  {
   "cell_type": "markdown",
   "metadata": {},
   "source": [
    "### Problem 7\n",
    "Basic exercises using numpy or R: let u = (1,2,3,3,2,1)′\n"
   ]
  },
  {
   "cell_type": "code",
   "execution_count": 211,
   "metadata": {},
   "outputs": [],
   "source": [
    "# Create a vector array with transpose\n",
    "u = np.matrix([1,2,3,3,2,1]).T"
   ]
  },
  {
   "cell_type": "code",
   "execution_count": 250,
   "metadata": {},
   "outputs": [
    {
     "data": {
      "text/plain": [
       "matrix([[ 0.92857143, -0.14285714, -0.21428571, -0.21428571, -0.14285714,\n",
       "         -0.07142857],\n",
       "        [-0.14285714,  0.71428571, -0.42857143, -0.42857143, -0.28571429,\n",
       "         -0.14285714],\n",
       "        [-0.21428571, -0.42857143,  0.35714286, -0.64285714, -0.42857143,\n",
       "         -0.21428571],\n",
       "        [-0.21428571, -0.42857143, -0.64285714,  0.35714286, -0.42857143,\n",
       "         -0.21428571],\n",
       "        [-0.14285714, -0.28571429, -0.42857143, -0.42857143,  0.71428571,\n",
       "         -0.14285714],\n",
       "        [-0.07142857, -0.14285714, -0.21428571, -0.21428571, -0.14285714,\n",
       "          0.92857143]])"
      ]
     },
     "execution_count": 250,
     "metadata": {},
     "output_type": "execute_result"
    }
   ],
   "source": [
    "# a)\n",
    "# Create an identity matirx \n",
    "I = np.identity(6)\n",
    "\n",
    "u = np.matrix([1,2,3,3,2,1]).T\n",
    "S = float(2/(u.T*u))\n",
    "U = I - S*(u*u.T)\n",
    "\n",
    "U"
   ]
  },
  {
   "cell_type": "code",
   "execution_count": null,
   "metadata": {},
   "outputs": [],
   "source": [
    "# b)\n"
   ]
  }
 ],
 "metadata": {
  "interpreter": {
   "hash": "7321a5fba119b77a6c5257a79a997d666438dc55056a68a660698298aae01e26"
  },
  "kernelspec": {
   "display_name": "Python 3.8.5 64-bit ('base': conda)",
   "language": "python",
   "name": "python3"
  },
  "language_info": {
   "codemirror_mode": {
    "name": "ipython",
    "version": 3
   },
   "file_extension": ".py",
   "mimetype": "text/x-python",
   "name": "python",
   "nbconvert_exporter": "python",
   "pygments_lexer": "ipython3",
   "version": "3.8.5"
  },
  "orig_nbformat": 4
 },
 "nbformat": 4,
 "nbformat_minor": 2
}
