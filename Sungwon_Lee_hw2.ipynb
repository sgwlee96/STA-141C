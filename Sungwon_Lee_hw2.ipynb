{
 "cells": [
  {
   "cell_type": "code",
   "execution_count": 23,
   "metadata": {},
   "outputs": [],
   "source": [
    "import pprint\n",
    "import numpy as np\n",
    "import pandas as pd\n",
    "import scipy.linalg as sl\n",
    "from sklearn.linear_model import LinearRegression\n",
    "from scipy.linalg import cho_factor, cho_solve\n",
    "import matplotlib.pylab as plt\n",
    "import scipy.sparse as sparse\n",
    "import time\n",
    "import math"
   ]
  },
  {
   "cell_type": "markdown",
   "metadata": {},
   "source": [
    "## Problem 1"
   ]
  },
  {
   "cell_type": "markdown",
   "metadata": {},
   "source": [
    "#### 1.1 Read the data and include an intercept in your model"
   ]
  },
  {
   "cell_type": "code",
   "execution_count": 24,
   "metadata": {},
   "outputs": [],
   "source": [
    "# Read the data by using pandas\n",
    "longley = pd.read_csv(\"longley.dat\", header=None, delim_whitespace=True)"
   ]
  },
  {
   "cell_type": "code",
   "execution_count": 25,
   "metadata": {},
   "outputs": [
    {
     "data": {
      "text/html": [
       "<div>\n",
       "<style scoped>\n",
       "    .dataframe tbody tr th:only-of-type {\n",
       "        vertical-align: middle;\n",
       "    }\n",
       "\n",
       "    .dataframe tbody tr th {\n",
       "        vertical-align: top;\n",
       "    }\n",
       "\n",
       "    .dataframe thead th {\n",
       "        text-align: right;\n",
       "    }\n",
       "</style>\n",
       "<table border=\"1\" class=\"dataframe\">\n",
       "  <thead>\n",
       "    <tr style=\"text-align: right;\">\n",
       "      <th></th>\n",
       "      <th>number of people employed</th>\n",
       "      <th>GNP implicit price deflator</th>\n",
       "      <th>GNP</th>\n",
       "      <th>number of unemployed</th>\n",
       "      <th>number of people in the armed forces</th>\n",
       "      <th>noninst. pop</th>\n",
       "      <th>year</th>\n",
       "    </tr>\n",
       "  </thead>\n",
       "  <tbody>\n",
       "    <tr>\n",
       "      <th>0</th>\n",
       "      <td>60323</td>\n",
       "      <td>83.0</td>\n",
       "      <td>234289</td>\n",
       "      <td>2356</td>\n",
       "      <td>1590</td>\n",
       "      <td>107608</td>\n",
       "      <td>1947</td>\n",
       "    </tr>\n",
       "    <tr>\n",
       "      <th>1</th>\n",
       "      <td>61122</td>\n",
       "      <td>88.5</td>\n",
       "      <td>259426</td>\n",
       "      <td>2325</td>\n",
       "      <td>1456</td>\n",
       "      <td>108632</td>\n",
       "      <td>1948</td>\n",
       "    </tr>\n",
       "    <tr>\n",
       "      <th>2</th>\n",
       "      <td>60171</td>\n",
       "      <td>88.2</td>\n",
       "      <td>258054</td>\n",
       "      <td>3682</td>\n",
       "      <td>1616</td>\n",
       "      <td>109773</td>\n",
       "      <td>1949</td>\n",
       "    </tr>\n",
       "    <tr>\n",
       "      <th>3</th>\n",
       "      <td>61187</td>\n",
       "      <td>89.5</td>\n",
       "      <td>284599</td>\n",
       "      <td>3351</td>\n",
       "      <td>1650</td>\n",
       "      <td>110929</td>\n",
       "      <td>1950</td>\n",
       "    </tr>\n",
       "    <tr>\n",
       "      <th>4</th>\n",
       "      <td>63221</td>\n",
       "      <td>96.2</td>\n",
       "      <td>328975</td>\n",
       "      <td>2099</td>\n",
       "      <td>3099</td>\n",
       "      <td>112075</td>\n",
       "      <td>1951</td>\n",
       "    </tr>\n",
       "  </tbody>\n",
       "</table>\n",
       "</div>"
      ],
      "text/plain": [
       "   number of people employed  GNP implicit price deflator     GNP  \\\n",
       "0                      60323                         83.0  234289   \n",
       "1                      61122                         88.5  259426   \n",
       "2                      60171                         88.2  258054   \n",
       "3                      61187                         89.5  284599   \n",
       "4                      63221                         96.2  328975   \n",
       "\n",
       "   number of unemployed  number of people in the armed forces  noninst. pop  \\\n",
       "0                  2356                                  1590        107608   \n",
       "1                  2325                                  1456        108632   \n",
       "2                  3682                                  1616        109773   \n",
       "3                  3351                                  1650        110929   \n",
       "4                  2099                                  3099        112075   \n",
       "\n",
       "   year  \n",
       "0  1947  \n",
       "1  1948  \n",
       "2  1949  \n",
       "3  1950  \n",
       "4  1951  "
      ]
     },
     "execution_count": 25,
     "metadata": {},
     "output_type": "execute_result"
    }
   ],
   "source": [
    "# Rename the column \n",
    "longley.rename(columns={0:\"number of people employed\", 1:\"GNP implicit price deflator\", 2: \"GNP\", 3:\"number of unemployed\",\n",
    "4: \"number of people in the armed forces\", 5: \"noninst. pop\", 6: \"year\"}, inplace=True)\n",
    "\n",
    "longley.head()\n"
   ]
  },
  {
   "cell_type": "code",
   "execution_count": 26,
   "metadata": {},
   "outputs": [
    {
     "name": "stdout",
     "output_type": "stream",
     "text": [
      "[[ 1.50618723e+01 -3.58191793e-02 -2.02022980e+00 -1.03322687e+00\n",
      "  -5.11041057e-02  1.82915146e+03]]\n",
      "[-3482258.63459582]\n"
     ]
    }
   ],
   "source": [
    "lm = LinearRegression()\n",
    "\n",
    "Y = longley.iloc[:,0:1]\n",
    "X = longley.iloc[:,1:]\n",
    "\n",
    "model = lm.fit(X, Y)\n",
    "\n",
    "\n",
    "print(model.coef_)\n",
    "print(model.intercept_)\n",
    "\n"
   ]
  },
  {
   "cell_type": "markdown",
   "metadata": {},
   "source": [
    "### 1.2"
   ]
  },
  {
   "cell_type": "markdown",
   "metadata": {},
   "source": [
    "#### LU decomposition"
   ]
  },
  {
   "cell_type": "code",
   "execution_count": 27,
   "metadata": {},
   "outputs": [
    {
     "name": "stdout",
     "output_type": "stream",
     "text": [
      "[[     1.      83.  234289.    2356.    1590.  107608.    1947. ]\n",
      " [     1.      88.5 259426.    2325.    1456.  108632.    1948. ]\n",
      " [     1.      88.2 258054.    3682.    1616.  109773.    1949. ]\n",
      " [     1.      89.5 284599.    3351.    1650.  110929.    1950. ]\n",
      " [     1.      96.2 328975.    2099.    3099.  112075.    1951. ]\n",
      " [     1.      98.1 346999.    1932.    3594.  113270.    1952. ]\n",
      " [     1.      99.  365385.    1870.    3547.  115094.    1953. ]\n",
      " [     1.     100.  363112.    3578.    3350.  116219.    1954. ]\n",
      " [     1.     101.2 397469.    2904.    3048.  117388.    1955. ]\n",
      " [     1.     104.6 419180.    2822.    2857.  118734.    1956. ]\n",
      " [     1.     108.4 442769.    2936.    2798.  120445.    1957. ]\n",
      " [     1.     110.8 444546.    4681.    2637.  121950.    1958. ]\n",
      " [     1.     112.6 482704.    3813.    2552.  123366.    1959. ]\n",
      " [     1.     114.2 502601.    3931.    2514.  125368.    1960. ]\n",
      " [     1.     115.7 518173.    4806.    2572.  127852.    1961. ]\n",
      " [     1.     116.9 554894.    4007.    2827.  130081.    1962. ]]\n"
     ]
    }
   ],
   "source": [
    "# make array of A and b from the data\n",
    "A = longley.iloc[:,1:]\n",
    "b = longley.iloc[:,0:1]\n",
    "\n",
    "A = np.array(A)\n",
    "\n",
    "# add column of one for intercept\n",
    "ncol = np.array(np.repeat(1, len(A)))\n",
    "ncol = ncol.reshape(-1,1)\n",
    "# ncol.shape\n",
    "\n",
    "An = np.append(A, ncol, axis=1)\n",
    "\n",
    "An = An[:, [6,0,1,2,3,4,5]]\n",
    "\n",
    "\n",
    "\n",
    "\n",
    "print(np.array_str(An, precision=1, suppress_small=True))\n",
    "\n"
   ]
  },
  {
   "cell_type": "code",
   "execution_count": 28,
   "metadata": {},
   "outputs": [],
   "source": [
    "\n",
    "\n",
    "\n",
    "def forward_substitution(L, b):\n",
    "    \n",
    "    #Get number of rows\n",
    "    n = L.shape[0]\n",
    "    \n",
    "    #Allocating space for the solution vector\n",
    "    y = np.zeros_like(b, dtype=np.double);\n",
    "    \n",
    "    #Here we perform the forward-substitution.  \n",
    "    #Initializing  with the first row.\n",
    "    y[0] = b[0] / L[0, 0]\n",
    "    \n",
    "    #Looping over rows in reverse (from the bottom  up),\n",
    "    #starting with the second to last row, because  the \n",
    "    #last row solve was completed in the last step.\n",
    "    for i in range(1, n):\n",
    "        y[i] = (b[i] - np.dot(L[i,:i], y[:i])) / L[i,i]\n",
    "        \n",
    "    return y\n",
    "\n",
    "\n",
    "\n",
    "def back_substitution(U, y):\n",
    "    \n",
    "    #Number of rows\n",
    "    n = U.shape[0]\n",
    "    \n",
    "    #Allocating space for the solution vector\n",
    "    x = np.zeros_like(y, dtype=np.double);\n",
    "\n",
    "    #Here we perform the back-substitution.  \n",
    "    #Initializing with the last row.\n",
    "    x[-1] = y[-1] / U[-1, -1]\n",
    "    \n",
    "    #Looping over rows in reverse (from the bottom up), \n",
    "    #starting with the second to last row, because the \n",
    "    #last row solve was completed in the last step.\n",
    "    for i in range(n-2, -1, -1):\n",
    "        x[i] = (y[i] - np.dot(U[i,i:], x[i:])) / U[i,i]\n",
    "        \n",
    "    return x\n"
   ]
  },
  {
   "cell_type": "code",
   "execution_count": 29,
   "metadata": {},
   "outputs": [],
   "source": [
    "# X' * X\n",
    "Asq = np.dot(np.transpose(An),An)\n",
    "\n",
    "# Compute LU decomposition\n",
    "P, L, U = sl.lu(Asq)\n",
    "\n"
   ]
  },
  {
   "cell_type": "code",
   "execution_count": 30,
   "metadata": {},
   "outputs": [],
   "source": [
    "# X' * b\n",
    "B = np.dot(An.T, b)\n",
    "\n",
    "# P' * yhat (pivoting)\n",
    "Y = np.dot(P.T, B)\n"
   ]
  },
  {
   "cell_type": "code",
   "execution_count": 31,
   "metadata": {},
   "outputs": [
    {
     "name": "stdout",
     "output_type": "stream",
     "text": [
      "The regression coefficient betahat is : \n",
      "[[ 1.50618724e+01]\n",
      " [-3.58191794e-02]\n",
      " [-2.02022981e+00]\n",
      " [-1.03322687e+00]\n",
      " [-5.11041052e-02]\n",
      " [ 1.82915147e+03]]\n",
      "The intercept is :\n",
      "[-3482258.63651315]\n"
     ]
    }
   ],
   "source": [
    "# Compute forward subsitution for L(Ub) = P'* yhat\n",
    "Ub = forward_substitution(L, Y)\n",
    "\n",
    "# find a coefficient by backward substitution\n",
    "betahat = back_substitution(U, Ub)\n",
    "\n",
    "print(\"The regression coefficient betahat is : \")\n",
    "print(betahat[1:])\n",
    "print(\"The intercept is :\")\n",
    "print(betahat[0])"
   ]
  },
  {
   "cell_type": "code",
   "execution_count": 32,
   "metadata": {},
   "outputs": [
    {
     "name": "stdout",
     "output_type": "stream",
     "text": [
      "[[ 1.50618723e+01 -3.58191793e-02 -2.02022980e+00 -1.03322687e+00\n",
      "  -5.11041057e-02  1.82915146e+03]] [-3482258.63459582]\n"
     ]
    }
   ],
   "source": [
    "print(model.coef_, model.intercept_)"
   ]
  },
  {
   "cell_type": "code",
   "execution_count": 33,
   "metadata": {},
   "outputs": [
    {
     "data": {
      "text/plain": [
       "True"
      ]
     },
     "execution_count": 33,
     "metadata": {},
     "output_type": "execute_result"
    }
   ],
   "source": [
    "# check if they have the same value\n",
    "np.allclose(betahat[1:], np.array(model.coef_).reshape(-1,1))"
   ]
  },
  {
   "cell_type": "markdown",
   "metadata": {},
   "source": [
    "When we compare the coefficient and intercept by using **sklearn Linear Regression function** and by **LU decomposition**, we can check that their results are same. "
   ]
  },
  {
   "cell_type": "code",
   "execution_count": 34,
   "metadata": {},
   "outputs": [],
   "source": [
    "def sterror(data):\n",
    "    return np.std(data, ddof=1) / np.sqrt(np.size(data))\n"
   ]
  },
  {
   "cell_type": "code",
   "execution_count": 35,
   "metadata": {},
   "outputs": [
    {
     "name": "stdout",
     "output_type": "stream",
     "text": [
      "[LU decomposition] The standard error is 304.4723390469291 and the variance is 463517.0262235407\n"
     ]
    }
   ],
   "source": [
    "\n",
    "sterror(betahat[1:]), np.var(betahat[1:])\n",
    "print(f\"[LU decomposition] The standard error is {sterror(betahat[1:])} and the variance is {np.var(betahat[1:])}\")\n"
   ]
  },
  {
   "cell_type": "markdown",
   "metadata": {},
   "source": [
    "#### Cholesky decomposition"
   ]
  },
  {
   "cell_type": "code",
   "execution_count": 36,
   "metadata": {},
   "outputs": [
    {
     "data": {
      "text/plain": [
       "array([[-3.48225863e+06],\n",
       "       [ 1.50618723e+01],\n",
       "       [-3.58191793e-02],\n",
       "       [-2.02022980e+00],\n",
       "       [-1.03322687e+00],\n",
       "       [-5.11041056e-02],\n",
       "       [ 1.82915146e+03]])"
      ]
     },
     "execution_count": 36,
     "metadata": {},
     "output_type": "execute_result"
    }
   ],
   "source": [
    "# Compute cholesky factor first\n",
    "c, low = cho_factor(Asq)\n",
    "\n",
    "# Then compute betahat by using cho_solve function\n",
    "xhat = cho_solve((c, low), B)\n",
    "xhat"
   ]
  },
  {
   "cell_type": "code",
   "execution_count": 37,
   "metadata": {},
   "outputs": [
    {
     "name": "stdout",
     "output_type": "stream",
     "text": [
      "The regression coefficient betahat is : \n",
      "[[ 1.50618723e+01]\n",
      " [-3.58191793e-02]\n",
      " [-2.02022980e+00]\n",
      " [-1.03322687e+00]\n",
      " [-5.11041056e-02]\n",
      " [ 1.82915146e+03]]\n",
      "The intercept is :\n",
      "[-3482258.63473125]\n"
     ]
    }
   ],
   "source": [
    "print(\"The regression coefficient betahat is : \")\n",
    "print(xhat[1:])\n",
    "print(\"The intercept is :\")\n",
    "print(xhat[0])"
   ]
  },
  {
   "cell_type": "code",
   "execution_count": 38,
   "metadata": {},
   "outputs": [
    {
     "data": {
      "text/plain": [
       "True"
      ]
     },
     "execution_count": 38,
     "metadata": {},
     "output_type": "execute_result"
    }
   ],
   "source": [
    "# check if they have the same value\n",
    "np.allclose(xhat[1:], np.array(model.coef_).reshape(-1,1))"
   ]
  },
  {
   "cell_type": "markdown",
   "metadata": {},
   "source": [
    "We can see that **cholesky decomposition** gives us the same result for intercept and coefficients as we computed by using **sklearn linear regression function**."
   ]
  },
  {
   "cell_type": "code",
   "execution_count": 39,
   "metadata": {},
   "outputs": [
    {
     "name": "stdout",
     "output_type": "stream",
     "text": [
      "[Cholesky decomposition] The standard error is 304.47233889966105 and the variance is 463517.02577515034\n"
     ]
    }
   ],
   "source": [
    "sterror(betahat[1:]), np.var(betahat[1:])\n",
    "print(f\"[Cholesky decomposition] The standard error is {sterror(xhat[1:])} and the variance is {np.var(xhat[1:])}\")"
   ]
  },
  {
   "cell_type": "markdown",
   "metadata": {},
   "source": [
    "QR decomposition"
   ]
  },
  {
   "cell_type": "code",
   "execution_count": 40,
   "metadata": {},
   "outputs": [],
   "source": [
    "q, r = sl.qr(An)"
   ]
  },
  {
   "cell_type": "code",
   "execution_count": 41,
   "metadata": {},
   "outputs": [],
   "source": [
    "p = np.dot(q.T, np.array(b))\n",
    "xhat_qr = np.dot(np.linalg.pinv(r), p)"
   ]
  },
  {
   "cell_type": "code",
   "execution_count": 42,
   "metadata": {},
   "outputs": [
    {
     "data": {
      "text/plain": [
       "True"
      ]
     },
     "execution_count": 42,
     "metadata": {},
     "output_type": "execute_result"
    }
   ],
   "source": [
    "# check if they have the same value\n",
    "np.allclose(xhat_qr[1:], np.array(model.coef_).reshape(-1,1))"
   ]
  },
  {
   "cell_type": "markdown",
   "metadata": {},
   "source": [
    "We can see that **QR decomposition** gives us the same result for intercept and coefficients as we computed by using **sklearn linear regression function**."
   ]
  },
  {
   "cell_type": "code",
   "execution_count": 43,
   "metadata": {},
   "outputs": [
    {
     "name": "stdout",
     "output_type": "stream",
     "text": [
      "[QR decomposition] The standard error is 304.47233889966105 and the variance is 463517.02577515034\n"
     ]
    }
   ],
   "source": [
    "sterror(xhat_qr[1:]), np.var(xhat_qr[1:])\n",
    "print(f\"[QR decomposition] The standard error is {sterror(xhat[1:])} and the variance is {np.var(xhat[1:])}\")"
   ]
  },
  {
   "cell_type": "markdown",
   "metadata": {},
   "source": [
    "## 1.3"
   ]
  },
  {
   "cell_type": "code",
   "execution_count": null,
   "metadata": {},
   "outputs": [],
   "source": []
  },
  {
   "cell_type": "markdown",
   "metadata": {},
   "source": [
    "## 1.4"
   ]
  },
  {
   "cell_type": "markdown",
   "metadata": {},
   "source": []
  },
  {
   "cell_type": "markdown",
   "metadata": {},
   "source": [
    "## 1.5"
   ]
  },
  {
   "cell_type": "code",
   "execution_count": null,
   "metadata": {},
   "outputs": [],
   "source": []
  },
  {
   "cell_type": "markdown",
   "metadata": {},
   "source": [
    "# Problem 2"
   ]
  },
  {
   "cell_type": "markdown",
   "metadata": {},
   "source": [
    "## 2.1"
   ]
  },
  {
   "cell_type": "code",
   "execution_count": 44,
   "metadata": {},
   "outputs": [
    {
     "data": {
      "text/html": [
       "<div>\n",
       "<style scoped>\n",
       "    .dataframe tbody tr th:only-of-type {\n",
       "        vertical-align: middle;\n",
       "    }\n",
       "\n",
       "    .dataframe tbody tr th {\n",
       "        vertical-align: top;\n",
       "    }\n",
       "\n",
       "    .dataframe thead th {\n",
       "        text-align: right;\n",
       "    }\n",
       "</style>\n",
       "<table border=\"1\" class=\"dataframe\">\n",
       "  <thead>\n",
       "    <tr style=\"text-align: right;\">\n",
       "      <th></th>\n",
       "      <th>0</th>\n",
       "    </tr>\n",
       "  </thead>\n",
       "  <tbody>\n",
       "    <tr>\n",
       "      <th>0</th>\n",
       "      <td>https://ucdavis.edu/</td>\n",
       "    </tr>\n",
       "    <tr>\n",
       "      <th>1</th>\n",
       "      <td>http:/</td>\n",
       "    </tr>\n",
       "    <tr>\n",
       "      <th>2</th>\n",
       "      <td>http://my.ucdavis.edu</td>\n",
       "    </tr>\n",
       "    <tr>\n",
       "      <th>3</th>\n",
       "      <td>http://campusmap.ucdavis.edu</td>\n",
       "    </tr>\n",
       "    <tr>\n",
       "      <th>4</th>\n",
       "      <td>http://www.ucdavisaggies.com</td>\n",
       "    </tr>\n",
       "    <tr>\n",
       "      <th>...</th>\n",
       "      <td>...</td>\n",
       "    </tr>\n",
       "    <tr>\n",
       "      <th>495</th>\n",
       "      <td>http://t.co/IxO8OCg472</td>\n",
       "    </tr>\n",
       "    <tr>\n",
       "      <th>496</th>\n",
       "      <td>http://www.pepsi.com</td>\n",
       "    </tr>\n",
       "    <tr>\n",
       "      <th>497</th>\n",
       "      <td>http://www.sportstravelhawaii.com</td>\n",
       "    </tr>\n",
       "    <tr>\n",
       "      <th>498</th>\n",
       "      <td>http://www.islandmovers.com</td>\n",
       "    </tr>\n",
       "    <tr>\n",
       "      <th>499</th>\n",
       "      <td>http://www.hcahawaii.com</td>\n",
       "    </tr>\n",
       "  </tbody>\n",
       "</table>\n",
       "<p>500 rows × 1 columns</p>\n",
       "</div>"
      ],
      "text/plain": [
       "                                     0\n",
       "0                 https://ucdavis.edu/\n",
       "1                               http:/\n",
       "2                http://my.ucdavis.edu\n",
       "3         http://campusmap.ucdavis.edu\n",
       "4         http://www.ucdavisaggies.com\n",
       "..                                 ...\n",
       "495             http://t.co/IxO8OCg472\n",
       "496               http://www.pepsi.com\n",
       "497  http://www.sportstravelhawaii.com\n",
       "498        http://www.islandmovers.com\n",
       "499           http://www.hcahawaii.com\n",
       "\n",
       "[500 rows x 1 columns]"
      ]
     },
     "execution_count": 44,
     "metadata": {},
     "output_type": "execute_result"
    }
   ],
   "source": [
    "# Read data of csv file. \n",
    "A = pd.read_csv(\"A.txt\", sep=',', header=None)\n",
    "U = pd.read_csv(\"U.txt\", header=None)\n",
    "\n",
    "U\n"
   ]
  },
  {
   "cell_type": "code",
   "execution_count": 45,
   "metadata": {},
   "outputs": [],
   "source": [
    "At = np.array(A.T)\n"
   ]
  },
  {
   "cell_type": "markdown",
   "metadata": {},
   "source": [
    "#### (a) number of pages"
   ]
  },
  {
   "cell_type": "code",
   "execution_count": 46,
   "metadata": {},
   "outputs": [
    {
     "name": "stdout",
     "output_type": "stream",
     "text": [
      "The number of pages are 500.\n"
     ]
    }
   ],
   "source": [
    "# length of url\n",
    "print(f\"The number of pages are {len(U)}.\")"
   ]
  },
  {
   "cell_type": "markdown",
   "metadata": {},
   "source": [
    "#### (b) number of edges (page links)"
   ]
  },
  {
   "cell_type": "code",
   "execution_count": 47,
   "metadata": {},
   "outputs": [
    {
     "name": "stdout",
     "output_type": "stream",
     "text": [
      "The number of edges (page links) is 2958.\n"
     ]
    }
   ],
   "source": [
    "# count all the 1's in A\n",
    "print(f\"The number of edges (page links) is {np.sum(At)}.\")"
   ]
  },
  {
   "cell_type": "markdown",
   "metadata": {},
   "source": [
    "#### (c) number of dangling nodes"
   ]
  },
  {
   "cell_type": "code",
   "execution_count": 48,
   "metadata": {},
   "outputs": [
    {
     "name": "stdout",
     "output_type": "stream",
     "text": [
      "The number of dangling nodes is : 200.\n"
     ]
    }
   ],
   "source": [
    "cnt = 0\n",
    "\n",
    "# count pages that does not linked to the outward link \n",
    "for i in range(500):\n",
    "    if np.sum(At[i,]) == 0:\n",
    "        cnt +=1\n",
    "\n",
    "print(f\"The number of dangling nodes is : {cnt}.\")"
   ]
  },
  {
   "cell_type": "markdown",
   "metadata": {},
   "source": [
    "#### (d) max in-degree"
   ]
  },
  {
   "cell_type": "code",
   "execution_count": 49,
   "metadata": {},
   "outputs": [
    {
     "name": "stdout",
     "output_type": "stream",
     "text": [
      "The max in-degree is : 80.\n"
     ]
    }
   ],
   "source": [
    "# max column sum \n",
    "\n",
    "Maxindeg = max(A.T.sum(axis=0))\n",
    "\n",
    "print(f\"The max in-degree is : {Maxindeg}.\")"
   ]
  },
  {
   "cell_type": "markdown",
   "metadata": {},
   "source": [
    "#### (e) max out-degree"
   ]
  },
  {
   "cell_type": "code",
   "execution_count": 50,
   "metadata": {},
   "outputs": [
    {
     "name": "stdout",
     "output_type": "stream",
     "text": [
      "The max out-degree is : 51.\n"
     ]
    }
   ],
   "source": [
    "# max row sum\n",
    "\n",
    "Maxoutdeg = max(A.T.sum(axis=1))\n",
    "\n",
    "print(f\"The max out-degree is : {Maxoutdeg}.\")"
   ]
  },
  {
   "cell_type": "markdown",
   "metadata": {},
   "source": [
    "#### (f) visualize sparsity pattern of A"
   ]
  },
  {
   "cell_type": "code",
   "execution_count": 51,
   "metadata": {},
   "outputs": [
    {
     "data": {
      "image/png": "[encoded data removed]",
      "text/plain": [
       "<Figure size 720x1152 with 1 Axes>"
      ]
     },
     "metadata": {
      "needs_background": "light"
     },
     "output_type": "display_data"
    }
   ],
   "source": [
    "# use pyplot.spy function \n",
    "\n",
    "plt.figure(figsize=(10,16))\n",
    "plt.spy(At,markersize=1)\n",
    "plt.show();\n"
   ]
  },
  {
   "cell_type": "markdown",
   "metadata": {},
   "source": [
    "## 2.2"
   ]
  },
  {
   "cell_type": "code",
   "execution_count": 52,
   "metadata": {},
   "outputs": [],
   "source": [
    "# Prepare the data \n",
    "\n",
    "# create a row with 500's 1. \n",
    "newrow = np.array(np.repeat(1, len(At)))\n",
    "\n",
    "# add to the raw data \n",
    "Atn = np.vstack([newrow, At])\n",
    "\n",
    "# create b with 500's 0\n",
    "b = np.array(np.repeat(0, len(At)))\n",
    "\n",
    "# reshape to (500,1)\n",
    "b = b.reshape(-1, 1)\n",
    "# b.shape\n",
    "\n",
    "# append 1 on the top\n",
    "bnewrow = np.array(1)\n",
    "bn = np.vstack([bnewrow, b])\n",
    "\n",
    "\n",
    "# sparseAt =  sparse.csr_matrix(At)\n",
    "\n"
   ]
  },
  {
   "cell_type": "markdown",
   "metadata": {},
   "source": [
    "#### (a) Dense linear system sover : LU decomposition"
   ]
  },
  {
   "cell_type": "code",
   "execution_count": 53,
   "metadata": {},
   "outputs": [
    {
     "name": "stdout",
     "output_type": "stream",
     "text": [
      "0.01995 sec\n"
     ]
    }
   ],
   "source": [
    "start = time.time() \n",
    "\n",
    "P, L, U = sl.lu(At)\n",
    "\n",
    "\n",
    "\n",
    "\n",
    "\n",
    "\n",
    "\n",
    "\n",
    "\n",
    "\n",
    "end = time.time() \n",
    "\n",
    "\n",
    "print(f\"{end - start:.5f} sec\")\n",
    "\n"
   ]
  },
  {
   "cell_type": "code",
   "execution_count": 54,
   "metadata": {},
   "outputs": [
    {
     "name": "stdout",
     "output_type": "stream",
     "text": [
      "[[ 1.15478592e-01  5.55111512e-17 -5.30825384e-16 -5.55111512e-17\n",
      "  -5.35044841e-02  9.56080616e-03 -7.99532284e-02  8.72522610e-03\n",
      "   9.52051031e-03 -3.72656842e-04  3.72656842e-04  8.96376703e-03\n",
      "   8.39644909e-03  8.94833228e-03  8.79539225e-03  8.88996840e-03\n",
      "   9.06206550e-03  8.62545444e-03  8.53512743e-03  8.84599132e-03\n",
      "   8.85052483e-03  8.81916578e-03  8.91893159e-03  1.90819582e-16\n",
      "   3.55618313e-17  1.20848309e-02 -6.81950707e-02  1.21014794e-02\n",
      "   1.21277812e-02  1.21928827e-02  1.22349748e-02  1.24904020e-02\n",
      "  -5.17338722e-02  1.20595619e-02  1.21200689e-02  1.22390290e-02\n",
      "   1.21003930e-02  1.21815226e-02  3.97354836e-02  1.20780618e-02\n",
      "   1.21578804e-02  1.21752516e-02 -5.81132364e-17 -9.01506610e-02\n",
      "  -8.45677695e-16 -3.19189120e-16 -1.70002901e-16  4.68861867e-03\n",
      "   4.76364737e-03  4.66751651e-03  4.67848257e-03  4.63211563e-03\n",
      "  -7.98306878e-02  4.73869988e-03  4.64119753e-03  4.68919240e-03\n",
      "   4.77254215e-03  4.77040715e-03  4.66146720e-03  4.68197480e-03\n",
      "   4.68131650e-03  4.70241248e-03  4.69639264e-03  4.67734601e-03\n",
      "   3.84755802e-02 -3.84755802e-02  4.68735827e-03  9.45424294e-17\n",
      "  -1.08420217e-17 -1.73472348e-18 -2.90910420e-05 -1.73927434e-05\n",
      "   4.64837854e-05  2.64979011e-16  2.66631574e-02  2.66491869e-02\n",
      "   2.66408840e-02 -6.38229302e-05  4.78143340e-05  1.60085962e-05\n",
      "  -7.93635990e-17 -6.41847686e-17  7.21828824e-03  7.16326031e-03\n",
      "   7.24322758e-03  2.11636264e-16 -2.74599936e-02 -2.73333065e-02\n",
      "   3.31685239e-02  5.17338722e-02 -1.01481323e-16 -2.88397778e-16\n",
      "   5.02733103e-05 -5.02733103e-05  7.91901267e-16 -6.79144241e-16\n",
      "   8.10983225e-17 -9.67108338e-17 -3.40005801e-16  1.14491749e-16\n",
      "  -5.76509492e-06 -1.91927687e-06  6.17141539e-06  1.78927830e-06\n",
      "   2.96897680e-06  1.25504894e-05 -1.57957881e-05  1.03649728e-16\n",
      "   1.05085361e-02  2.94902991e-17  1.04965328e-02  1.05087241e-02\n",
      "   5.20417043e-16  1.04934120e-02 -5.24833976e-02 -2.42861287e-17\n",
      "   2.94902991e-17  1.04761926e-02  6.50521303e-17 -2.16840434e-18\n",
      "   2.48932819e-16 -2.83564938e-05  2.83564938e-05  1.31337558e-02\n",
      "   1.31257331e-02  1.31319170e-02  1.31541686e-02  1.31376578e-02\n",
      "   1.31388114e-02  1.31391274e-02  1.31387205e-02  1.31452365e-02\n",
      "   1.31388113e-02  1.31432238e-02 -3.97354836e-02 -6.72165392e-02\n",
      "   1.31626135e-02  1.31342875e-02  1.31441277e-02  1.31344921e-02\n",
      "   3.50310484e-02  3.50099947e-02  3.50310368e-02  3.50363293e-02\n",
      "   3.50386843e-02 -2.16247761e-02  2.76688394e-16  2.84494650e-16\n",
      "   5.47933001e-02  8.23993651e-18 -3.04693784e-06 -1.78409410e-06\n",
      "   2.40941868e-06 -8.61158172e-06  2.16745806e-06  5.95331839e-06\n",
      "   4.94515397e-06 -3.30830023e-06 -3.00986750e-06  2.92499314e-06\n",
      "   4.60743609e-07  1.79939107e-07  1.79939107e-07  1.79939107e-07\n",
      "   1.79939107e-07  1.79939107e-07  1.85650152e-03  1.85650152e-03\n",
      "   1.85650152e-03  1.85650152e-03  1.85650152e-03  1.85650152e-03\n",
      "   1.85650152e-03  1.85650152e-03  1.85650152e-03  1.85650152e-03\n",
      "   1.85650152e-03  1.85650152e-03  1.85650152e-03  1.85650152e-03\n",
      "   1.85650152e-03  1.85678872e-03  1.85678872e-03  1.85650152e-03\n",
      "   1.85664859e-03  1.85650152e-03  1.85650152e-03  1.85650152e-03\n",
      "   1.85650152e-03  1.85650152e-03  1.85650152e-03  1.85650152e-03\n",
      "   1.85650152e-03  1.85650152e-03  1.85666856e-03  1.85666856e-03\n",
      "   1.85650152e-03  1.85650152e-03  1.85650152e-03  1.85650152e-03\n",
      "   1.85650152e-03  1.85650152e-03  1.85650152e-03  1.85650152e-03\n",
      "   1.85650152e-03  1.85650152e-03  1.85653491e-03  1.85653491e-03\n",
      "   1.85650152e-03  1.00613962e-16  5.35044841e-02 -1.60245081e-16\n",
      "  -5.19135047e-02 -1.27502175e-16 -3.16587034e-17 -1.14491749e-16\n",
      "  -2.04780713e-06  4.09561426e-06 -2.04780713e-06  5.19135047e-02\n",
      "   3.84755802e-02  9.88351872e-03  9.88351872e-03  9.88351872e-03\n",
      "   9.88351872e-03  9.88351872e-03  9.88351872e-03  9.88351872e-03\n",
      "   2.64979011e-16  7.89299182e-17 -9.88353809e-02  9.88371238e-03\n",
      "   9.88351872e-03  9.88351872e-03  2.25514052e-17  2.25514052e-17\n",
      "   2.25514052e-17  2.25514052e-17 -6.76542156e-17 -3.29597460e-17\n",
      "  -3.29597460e-17 -3.29597460e-17 -3.29597460e-17 -3.29597460e-17\n",
      "  -3.29597460e-17 -3.29597460e-17 -3.29597460e-17 -3.29597460e-17\n",
      "  -3.29597460e-17 -3.29597460e-17 -3.29597460e-17 -3.29597460e-17\n",
      "  -3.29597460e-17 -3.29597460e-17 -3.29597460e-17  1.81278603e-16\n",
      "  -2.16840434e-18  5.72458747e-17 -4.85722573e-17 -4.85722573e-17\n",
      "   3.03576608e-17 -9.72864385e-07 -9.72864385e-07 -9.72864385e-07\n",
      "   3.46791221e-06  1.39640971e-06 -9.72864385e-07 -1.47451495e-16\n",
      "  -5.29090660e-17 -5.29090660e-17 -5.29090660e-17 -9.72864385e-07\n",
      "   1.21430643e-17  1.21430643e-17  1.21430643e-17  1.21430643e-17\n",
      "   1.21430643e-17  1.21430643e-17  1.21430643e-17  9.06393016e-17\n",
      "   9.06393016e-17  9.06393016e-17  9.06393016e-17  7.80625564e-18\n",
      "  -1.69135539e-17  1.41163123e-16  1.41163123e-16 -7.58941521e-17\n",
      "   1.41163123e-16 -2.07299455e-16 -2.07299455e-16 -3.90312782e-18\n",
      "  -3.90312782e-18 -3.90312782e-18 -3.90312782e-18 -2.34187669e-17\n",
      "   1.47451495e-17 -2.48499138e-16 -2.88501086e-02 -2.88501086e-02\n",
      "   2.88501086e-02  2.88501086e-02  5.77002173e-02 -1.13624388e-16\n",
      "  -7.41021871e-08  7.41021871e-08  3.55618313e-17  3.55618313e-17\n",
      "   3.55618313e-17  3.55618313e-17 -3.12250226e-17  1.99548748e-06\n",
      "   1.99548748e-06  1.99548748e-06  1.99548748e-06  1.99548748e-06\n",
      "   1.99548748e-06  1.99548748e-06  3.03576608e-17  1.99548748e-06\n",
      "   1.99548748e-06  1.99548748e-06 -2.39458497e-05  1.99548748e-06\n",
      "   1.99548748e-06  5.24833976e-02 -1.43403572e-06 -1.46113788e-05\n",
      "   1.46113788e-05 -1.43403572e-06 -1.43403572e-06 -1.43403572e-06\n",
      "  -1.43403572e-06 -1.43403572e-06 -5.68121938e-17 -1.43403572e-06\n",
      "  -2.34187669e-17 -1.43403572e-06 -1.43403572e-06 -1.43403572e-06\n",
      "  -1.43403572e-06 -1.43403572e-06 -1.43403572e-06 -1.43403572e-06\n",
      "  -4.09561426e-06  1.46113788e-05 -1.43403572e-06 -1.43403572e-06\n",
      "  -1.46113788e-05 -1.43403572e-06 -1.43403572e-06  3.13422929e-05\n",
      "  -1.43403572e-06  3.98986399e-17 -7.54604712e-17 -1.63931368e-16\n",
      "  -7.80625564e-18  3.98986399e-17  6.50521303e-18  3.98986399e-17\n",
      "   3.98986399e-17  3.98986399e-17  3.98986399e-17  3.98986399e-17\n",
      "   3.98986399e-17  1.57426155e-16  3.98986399e-17  3.98986399e-17\n",
      "   4.38017678e-17  3.03576608e-18 -3.98986399e-17  1.55257751e-16\n",
      "   3.46944695e-18  3.46944695e-18  3.46944695e-18  3.46944695e-18\n",
      "   3.46944695e-18  3.46944695e-18 -1.64904433e-06  1.64904433e-06\n",
      "   1.30104261e-18  2.99239800e-17  2.99239800e-17  3.68628739e-17\n",
      "   3.68628739e-17 -3.68628739e-17 -7.54604712e-17 -7.54604712e-17\n",
      "  -7.54604712e-17  2.08166817e-17  5.90852641e-07 -2.95426320e-07\n",
      "  -2.95426320e-07  4.32495058e-03  4.32537890e-03  4.32490489e-03\n",
      "   4.32490489e-03  4.32463687e-03  5.37764278e-17 -2.03830008e-17\n",
      "  -2.03830008e-17  9.54097912e-18 -1.30104261e-18  7.20614552e-07\n",
      "   7.20614552e-07 -7.20614552e-07 -7.20614552e-07  3.90312782e-18\n",
      "  -1.04083409e-17  3.83240906e-06  3.83240906e-06  3.83240906e-06\n",
      "   3.83240906e-06  3.83240906e-06  3.83240906e-06 -2.14004210e-05\n",
      "   3.83240906e-06  3.83240906e-06  3.83240906e-06 -7.15573434e-18\n",
      "   3.83240906e-06  3.83240906e-06  3.83240906e-06 -3.47583524e-05\n",
      "   3.83240906e-06  3.83240906e-06  3.83240906e-06  3.83240906e-06\n",
      "   3.83240906e-06  3.83240906e-06  3.83240906e-06  3.83240906e-06\n",
      "   3.83240906e-06  3.83240906e-06  3.83240906e-06  3.83240906e-06\n",
      "   3.83240906e-06  3.83240906e-06  3.83240906e-06  3.83240906e-06\n",
      "   3.83240906e-06 -2.14004210e-05 -2.14004210e-05  3.83240906e-06\n",
      "  -2.81892565e-16  3.83240906e-06  3.83240906e-06  1.73472348e-17\n",
      "   3.83240906e-06 -3.13422929e-05 -2.47399038e-05  1.19729249e-05\n",
      "  -2.47399038e-05  3.83240906e-06 -2.47399038e-05  3.47583524e-05\n",
      "   1.19729249e-05  4.02554132e-05 -2.47399038e-05  1.16203484e-02\n",
      "   4.07987587e-02 -1.21259507e-02  1.16203484e-02  4.33680869e-18\n",
      "   4.33680869e-18  4.33680869e-18  4.33680869e-18  4.33680869e-18\n",
      "  -1.25984292e-16  4.33680869e-18 -1.27935856e-16 -1.27935856e-16\n",
      "   6.66995617e-03  6.66995617e-03  6.66995617e-03  6.66995617e-03\n",
      "   6.66995617e-03  6.66995617e-03  6.66995617e-03  6.66995617e-03\n",
      "   6.66995617e-03  6.66995617e-03  6.66995617e-03  6.66995617e-03\n",
      "   6.66995617e-03  1.21259507e-02 -2.24226636e-03 -2.24226636e-03\n",
      "  -2.24226636e-03 -2.24226636e-03 -2.24226636e-03 -2.24226636e-03\n",
      "  -2.24226636e-03 -2.24226636e-03  1.74773390e-16 -2.24226636e-03\n",
      "   2.69059784e-02 -2.24062711e-03 -2.24062711e-03 -2.24432698e-03]]\n",
      "[-2.42861287e-17]\n"
     ]
    }
   ],
   "source": [
    "lm = LinearRegression()\n",
    "\n",
    "model = lm.fit(Atn, bn)\n",
    "\n",
    "\n",
    "print(model.coef_)\n",
    "print(model.intercept_)"
   ]
  },
  {
   "cell_type": "code",
   "execution_count": 55,
   "metadata": {},
   "outputs": [
    {
     "name": "stdout",
     "output_type": "stream",
     "text": [
      "1\n"
     ]
    }
   ],
   "source": [
    "print(len(model.coef_))"
   ]
  },
  {
   "cell_type": "code",
   "execution_count": null,
   "metadata": {},
   "outputs": [],
   "source": []
  }
 ],
 "metadata": {
  "interpreter": {
   "hash": "7321a5fba119b77a6c5257a79a997d666438dc55056a68a660698298aae01e26"
  },
  "kernelspec": {
   "display_name": "Python 3.8.5 64-bit ('base': conda)",
   "language": "python",
   "name": "python3"
  },
  "language_info": {
   "codemirror_mode": {
    "name": "ipython",
    "version": 3
   },
   "file_extension": ".py",
   "mimetype": "text/x-python",
   "name": "python",
   "nbconvert_exporter": "python",
   "pygments_lexer": "ipython3",
   "version": "3.8.5"
  },
  "orig_nbformat": 4
 },
 "nbformat": 4,
 "nbformat_minor": 2
}
