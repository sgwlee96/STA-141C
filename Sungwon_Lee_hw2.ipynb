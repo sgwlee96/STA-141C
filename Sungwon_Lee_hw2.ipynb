{
 "cells": [
  {
   "cell_type": "code",
   "execution_count": 9,
   "metadata": {},
   "outputs": [],
   "source": [
    "import pprint\n",
    "import numpy as np\n",
    "import pandas as pd\n",
    "import scipy.linalg as sl\n",
    "from sklearn.linear_model import LinearRegression\n",
    "from scipy.linalg import cho_factor, cho_solve"
   ]
  },
  {
   "cell_type": "markdown",
   "metadata": {},
   "source": [
    "## Problem 1"
   ]
  },
  {
   "cell_type": "markdown",
   "metadata": {},
   "source": [
    "#### 1.1 Read the data and include an intercept in your model"
   ]
  },
  {
   "cell_type": "code",
   "execution_count": 10,
   "metadata": {},
   "outputs": [],
   "source": [
    "# Read the data by using pandas\n",
    "longley = pd.read_csv(\"longley.dat\", header=None, delim_whitespace=True)"
   ]
  },
  {
   "cell_type": "code",
   "execution_count": 72,
   "metadata": {},
   "outputs": [
    {
     "name": "stdout",
     "output_type": "stream",
     "text": [
      "   number of people employed  GNP implicit price deflator     GNP  \\\n",
      "0                      60323                         83.0  234289   \n",
      "1                      61122                         88.5  259426   \n",
      "2                      60171                         88.2  258054   \n",
      "3                      61187                         89.5  284599   \n",
      "4                      63221                         96.2  328975   \n",
      "\n",
      "   number of unemployed  number of people in the armed forces  noninst. pop  \\\n",
      "0                  2356                                  1590        107608   \n",
      "1                  2325                                  1456        108632   \n",
      "2                  3682                                  1616        109773   \n",
      "3                  3351                                  1650        110929   \n",
      "4                  2099                                  3099        112075   \n",
      "\n",
      "   year  \n",
      "0  1947  \n",
      "1  1948  \n",
      "2  1949  \n",
      "3  1950  \n",
      "4  1951  \n",
      "    number of people employed  GNP implicit price deflator     GNP  \\\n",
      "11                      66513                        110.8  444546   \n",
      "12                      68655                        112.6  482704   \n",
      "13                      69564                        114.2  502601   \n",
      "14                      69331                        115.7  518173   \n",
      "15                      70551                        116.9  554894   \n",
      "\n",
      "    number of unemployed  number of people in the armed forces  noninst. pop  \\\n",
      "11                  4681                                  2637        121950   \n",
      "12                  3813                                  2552        123366   \n",
      "13                  3931                                  2514        125368   \n",
      "14                  4806                                  2572        127852   \n",
      "15                  4007                                  2827        130081   \n",
      "\n",
      "    year  \n",
      "11  1958  \n",
      "12  1959  \n",
      "13  1960  \n",
      "14  1961  \n",
      "15  1962  \n"
     ]
    }
   ],
   "source": [
    "# Rename the column \n",
    "longley.rename(columns={0:\"number of people employed\", 1:\"GNP implicit price deflator\", 2: \"GNP\", 3:\"number of unemployed\",\n",
    "4: \"number of people in the armed forces\", 5: \"noninst. pop\", 6: \"year\"}, inplace=True)\n",
    "\n",
    "print(longley.head())\n",
    "print(longley.tail())\n"
   ]
  },
  {
   "cell_type": "code",
   "execution_count": 12,
   "metadata": {},
   "outputs": [
    {
     "name": "stdout",
     "output_type": "stream",
     "text": [
      "[     -93.2 -1430482.3    -5539.9    -3312.2    -6824.      1868.5]\n"
     ]
    }
   ],
   "source": [
    "lm = LinearRegression()\n",
    "\n",
    "model = lm.fit(longley.iloc[:,0:1], longley.iloc[:,1:])\n",
    "\n",
    "model.coef_\n",
    "model.intercept_\n",
    "\n",
    "print(np.array_str(model.intercept_, precision=1, suppress_small=True))"
   ]
  },
  {
   "cell_type": "markdown",
   "metadata": {},
   "source": [
    "### 1.2"
   ]
  },
  {
   "cell_type": "markdown",
   "metadata": {},
   "source": [
    "#### GE/LU decompostion"
   ]
  },
  {
   "cell_type": "code",
   "execution_count": 41,
   "metadata": {},
   "outputs": [
    {
     "name": "stdout",
     "output_type": "stream",
     "text": [
      "(16, 6)\n",
      "(6, 6)\n",
      "(16, 6)\n",
      "(16, 1)\n"
     ]
    }
   ],
   "source": [
    "A = np.array(longley.iloc[:,1:])\n",
    "b = np.array(longley.iloc[:,0:1])\n",
    "\n",
    "P, L, U = sl.lu(A)\n",
    "\n",
    "\n",
    "# print(np.array_str(L, precision=1, suppress_small=True))\n",
    "# print(np.array_str(U, precision=1, suppress_small=True))\n",
    "\n",
    "print(L.shape)\n",
    "print(U.shape)\n",
    "print(A.shape)\n",
    "print(b.shape)"
   ]
  },
  {
   "cell_type": "code",
   "execution_count": 47,
   "metadata": {},
   "outputs": [
    {
     "name": "stdout",
     "output_type": "stream",
     "text": [
      "[[ 1.   0.   0.   0.   0.   0. ]\n",
      " [ 0.8  1.   0.   0.   0.   0. ]\n",
      " [ 0.8  1.   1.   0.   0.   0. ]\n",
      " [ 0.8  0.7 -0.7  1.   0.   0. ]\n",
      " [ 0.9  0.5  0.9  0.1  1.   0. ]\n",
      " [ 1.   0.3  0.1  0.   0.7  1. ]\n",
      " [ 0.8  0.7 -0.8  0.9 -0.2 -0.4]\n",
      " [ 0.9  0.7  0.5  0.7  0.1 -0.3]\n",
      " [ 0.9  0.5 -0.1  0.5 -0.1  1. ]\n",
      " [ 0.9  0.5 -0.3  0.4  0.2  0.8]\n",
      " [ 0.9  0.4 -0.3  0.3  0.5  0.4]\n",
      " [ 0.8  0.8 -0.5  0.8  0.1  0.3]\n",
      " [ 0.8  0.9  0.7 -0.  -0.2  0.7]\n",
      " [ 1.   0.2  0.1 -0.1  0.6  0.6]\n",
      " [ 1.   0.2  0.7 -0.1  0.5 -0.1]\n",
      " [ 0.7  1.   0.2  0.1 -0.7  0.1]]\n"
     ]
    }
   ],
   "source": [
    "print(np.array_str(L, precision=1, suppress_small=True))"
   ]
  },
  {
   "cell_type": "code",
   "execution_count": 64,
   "metadata": {},
   "outputs": [],
   "source": [
    "def solve(L, b):\n",
    "    v = [0 for i in range(len(L))]\n",
    "    for i in range(len(L)):\n",
    "        v[i] = (b[i] - np.dot(v, L[i]))/float(L[i][i])"
   ]
  },
  {
   "cell_type": "code",
   "execution_count": 73,
   "metadata": {},
   "outputs": [
    {
     "data": {
      "text/plain": [
       "(16,)"
      ]
     },
     "execution_count": 73,
     "metadata": {},
     "output_type": "execute_result"
    }
   ],
   "source": [
    "v = np.array([0 for i in range(len(L))])\n",
    "v.shape"
   ]
  },
  {
   "cell_type": "code",
   "execution_count": 74,
   "metadata": {},
   "outputs": [],
   "source": [
    "def forsolve(L,b):\n",
    "    x = np.zeros_like(b)\n",
    "    for i in range(x.shape[0]):\n",
    "        sum=0.\n",
    "        for j in range(i):\n",
    "            sum += L[i,j]*x[j]\n",
    "        x[i] = (b[i]-sum)/L[i,i]\n",
    "    return x.reshape(-1,1)"
   ]
  },
  {
   "cell_type": "code",
   "execution_count": 77,
   "metadata": {},
   "outputs": [
    {
     "data": {
      "text/plain": [
       "array([[0],\n",
       "       [0],\n",
       "       [0],\n",
       "       [0],\n",
       "       [0],\n",
       "       [0],\n",
       "       [0],\n",
       "       [0],\n",
       "       [0],\n",
       "       [0],\n",
       "       [0],\n",
       "       [0],\n",
       "       [0],\n",
       "       [0],\n",
       "       [0],\n",
       "       [0]], dtype=int64)"
      ]
     },
     "execution_count": 77,
     "metadata": {},
     "output_type": "execute_result"
    }
   ],
   "source": [
    "x = np.zeros_like(b)\n",
    "x"
   ]
  },
  {
   "cell_type": "code",
   "execution_count": 52,
   "metadata": {},
   "outputs": [
    {
     "ename": "ValueError",
     "evalue": "shapes (16,) and (6,) not aligned: 16 (dim 0) != 6 (dim 0)",
     "output_type": "error",
     "traceback": [
      "\u001b[1;31m---------------------------------------------------------------------------\u001b[0m",
      "\u001b[1;31mValueError\u001b[0m                                Traceback (most recent call last)",
      "\u001b[1;32m<ipython-input-52-7746bd21762c>\u001b[0m in \u001b[0;36m<module>\u001b[1;34m\u001b[0m\n\u001b[1;32m----> 1\u001b[1;33m \u001b[0msolve\u001b[0m\u001b[1;33m(\u001b[0m\u001b[0mL\u001b[0m\u001b[1;33m,\u001b[0m\u001b[0mb\u001b[0m\u001b[1;33m)\u001b[0m\u001b[1;33m\u001b[0m\u001b[1;33m\u001b[0m\u001b[0m\n\u001b[0m",
      "\u001b[1;32m<ipython-input-51-c13843a673bc>\u001b[0m in \u001b[0;36msolve\u001b[1;34m(L, b)\u001b[0m\n\u001b[0;32m      2\u001b[0m     \u001b[0mv\u001b[0m \u001b[1;33m=\u001b[0m \u001b[1;33m[\u001b[0m\u001b[1;36m0\u001b[0m \u001b[1;32mfor\u001b[0m \u001b[0mi\u001b[0m \u001b[1;32min\u001b[0m \u001b[0mrange\u001b[0m\u001b[1;33m(\u001b[0m\u001b[0mlen\u001b[0m\u001b[1;33m(\u001b[0m\u001b[0mL\u001b[0m\u001b[1;33m)\u001b[0m\u001b[1;33m)\u001b[0m\u001b[1;33m]\u001b[0m\u001b[1;33m\u001b[0m\u001b[1;33m\u001b[0m\u001b[0m\n\u001b[0;32m      3\u001b[0m     \u001b[1;32mfor\u001b[0m \u001b[0mi\u001b[0m \u001b[1;32min\u001b[0m \u001b[0mrange\u001b[0m\u001b[1;33m(\u001b[0m\u001b[0mlen\u001b[0m\u001b[1;33m(\u001b[0m\u001b[0mL\u001b[0m\u001b[1;33m)\u001b[0m\u001b[1;33m)\u001b[0m\u001b[1;33m:\u001b[0m\u001b[1;33m\u001b[0m\u001b[1;33m\u001b[0m\u001b[0m\n\u001b[1;32m----> 4\u001b[1;33m         \u001b[0mv\u001b[0m\u001b[1;33m[\u001b[0m\u001b[0mi\u001b[0m\u001b[1;33m]\u001b[0m \u001b[1;33m=\u001b[0m \u001b[1;33m(\u001b[0m\u001b[0mb\u001b[0m\u001b[1;33m[\u001b[0m\u001b[0mi\u001b[0m\u001b[1;33m]\u001b[0m \u001b[1;33m-\u001b[0m \u001b[0mnp\u001b[0m\u001b[1;33m.\u001b[0m\u001b[0mdot\u001b[0m\u001b[1;33m(\u001b[0m\u001b[0mv\u001b[0m\u001b[1;33m,\u001b[0m \u001b[0mL\u001b[0m\u001b[1;33m[\u001b[0m\u001b[0mi\u001b[0m\u001b[1;33m]\u001b[0m\u001b[1;33m)\u001b[0m\u001b[1;33m)\u001b[0m\u001b[1;33m/\u001b[0m\u001b[0mfloat\u001b[0m\u001b[1;33m(\u001b[0m\u001b[0mL\u001b[0m\u001b[1;33m[\u001b[0m\u001b[0mi\u001b[0m\u001b[1;33m]\u001b[0m\u001b[1;33m[\u001b[0m\u001b[0mi\u001b[0m\u001b[1;33m]\u001b[0m\u001b[1;33m)\u001b[0m\u001b[1;33m\u001b[0m\u001b[1;33m\u001b[0m\u001b[0m\n\u001b[0m",
      "\u001b[1;32m<__array_function__ internals>\u001b[0m in \u001b[0;36mdot\u001b[1;34m(*args, **kwargs)\u001b[0m\n",
      "\u001b[1;31mValueError\u001b[0m: shapes (16,) and (6,) not aligned: 16 (dim 0) != 6 (dim 0)"
     ]
    }
   ],
   "source": [
    "solve(L,b)"
   ]
  },
  {
   "cell_type": "markdown",
   "metadata": {},
   "source": [
    "#### QR decompostion"
   ]
  },
  {
   "cell_type": "code",
   "execution_count": 79,
   "metadata": {},
   "outputs": [
    {
     "data": {
      "text/plain": [
       "array([[-0.20300008, -0.38280381, -0.01764997, -0.260406  ,  0.40314384,\n",
       "         0.07765528, -0.39259085, -0.19530657, -0.17072541, -0.13604157,\n",
       "        -0.1116941 ,  0.08949862,  0.05415203, -0.09854322, -0.23077236,\n",
       "        -0.49926218],\n",
       "       [-0.21645189, -0.36577761,  0.0588566 , -0.47913758, -0.22228952,\n",
       "         0.31773649, -0.12700722,  0.23729603,  0.33209354,  0.10702125,\n",
       "        -0.0662363 ,  0.17717319,  0.20849959,  0.14209883,  0.26369644,\n",
       "         0.26979959],\n",
       "       [-0.21571816, -0.36671024, -0.41820355,  0.02390594,  0.04202782,\n",
       "         0.04941875,  0.25173702, -0.43497872, -0.01077471,  0.16606296,\n",
       "         0.24834315, -0.42562883,  0.06464633,  0.12637096, -0.15793712,\n",
       "         0.26667749],\n",
       "       [-0.21889768, -0.27181451, -0.26063351, -0.1170797 ,  0.19824471,\n",
       "        -0.35977146,  0.40584285,  0.42674714, -0.25748465, -0.17945066,\n",
       "         0.0091855 ,  0.22188287, -0.28656954, -0.12922621,  0.16869929,\n",
       "         0.07685672],\n",
       "       [-0.23528443, -0.19040934,  0.27395532,  0.12261887, -0.17378464,\n",
       "        -0.0876312 , -0.1316579 ,  0.03879723,  0.17541021, -0.15772661,\n",
       "        -0.4548112 , -0.46556349, -0.37942025, -0.31721578, -0.09538871,\n",
       "         0.16925032],\n",
       "       [-0.23993142, -0.14333235,  0.36695423,  0.2859556 , -0.10159966,\n",
       "         0.06169725, -0.16525185, -0.27774773, -0.52933763, -0.20741481,\n",
       "         0.10703507,  0.18159618, -0.00157594,  0.19939799,  0.3301093 ,\n",
       "         0.26550823],\n",
       "       [-0.24213262, -0.07759697,  0.41773011,  0.19959586,  0.11607777,\n",
       "         0.32427268,  0.66695488, -0.0320535 ,  0.14676947,  0.02835573,\n",
       "        -0.10210383,  0.09671723,  0.15861932, -0.00825314, -0.09969256,\n",
       "        -0.28149413],\n",
       "       [-0.24457841, -0.10468379, -0.17509021,  0.58841736,  0.0877451 ,\n",
       "         0.11119972, -0.28318639,  0.56494665,  0.017391  ,  0.09961081,\n",
       "         0.09049569, -0.12425557,  0.24277653,  0.15397811, -0.11414945,\n",
       "        -0.05808471],\n",
       "       [-0.24751335,  0.02637276,  0.11161959,  0.15014992,  0.25615377,\n",
       "        -0.54047061, -0.10586331, -0.22962864,  0.60348537, -0.11360787,\n",
       "         0.14884875,  0.18145005,  0.06331524,  0.15263464,  0.14540408,\n",
       "         0.02735315],\n",
       "       [-0.25582901,  0.06411846,  0.18879289, -0.07210558, -0.01380769,\n",
       "        -0.26937203, -0.06387042, -0.01199081, -0.19014224,  0.86689259,\n",
       "        -0.05797099,  0.05316165, -0.10122821, -0.05878763,  0.01828285,\n",
       "        -0.0688635 ],\n",
       "       [-0.26512299,  0.10332232,  0.20242083, -0.17261012, -0.25808717,\n",
       "         0.06352319, -0.05923105,  0.12747942,  0.04473327, -0.11570949,\n",
       "         0.76055981, -0.1094382 , -0.2114579 , -0.23881368, -0.14066023,\n",
       "        -0.17467951],\n",
       "       [-0.27099288,  0.0702114 , -0.38961478,  0.21592716, -0.43907623,\n",
       "         0.11353922, -0.0381454 , -0.21814906,  0.09692763, -0.00937742,\n",
       "        -0.15535237,  0.55587927, -0.15941094, -0.17112652, -0.26596512,\n",
       "        -0.02081417],\n",
       "       [-0.27539529,  0.20779508, -0.02668501, -0.1770807 , -0.2757612 ,\n",
       "        -0.34261034,  0.07478826,  0.01245285, -0.20259625, -0.18823132,\n",
       "        -0.14522003, -0.15354386,  0.69469351, -0.20187577, -0.06930389,\n",
       "        -0.02092289],\n",
       "       [-0.27930854,  0.26825143, -0.03252876, -0.21935924, -0.13496855,\n",
       "        -0.04502421,  0.04689034,  0.07075169, -0.06644182, -0.13154477,\n",
       "        -0.17024368, -0.14441879, -0.25611549,  0.75627147, -0.1770562 ,\n",
       "        -0.18153317],\n",
       "       [-0.28297722,  0.31133865, -0.3086794 ,  0.02636902,  0.09034033,\n",
       "         0.25720312, -0.01980845, -0.11150413,  0.05050264,  0.00271395,\n",
       "        -0.07477415, -0.21807785, -0.08096454, -0.16716715,  0.68377282,\n",
       "        -0.28656779],\n",
       "       [-0.28591216,  0.45282156,  0.02469122, -0.1453371 ,  0.50761581,\n",
       "         0.25489792, -0.05968337,  0.03283308, -0.0398311 , -0.03172047,\n",
       "        -0.02624835,  0.0834765 , -0.00998775, -0.13982324, -0.2589755 ,\n",
       "         0.51693215]])"
      ]
     },
     "execution_count": 79,
     "metadata": {},
     "output_type": "execute_result"
    }
   ],
   "source": [
    "q, r = sl.qr(A)\n",
    "\n",
    "# print(np.array_str(q, precision=1, suppress_small=True))\n",
    "# print(np.array_str(r, precision=1, suppress_small=True))\n",
    "\n",
    "q"
   ]
  }
 ],
 "metadata": {
  "interpreter": {
   "hash": "7321a5fba119b77a6c5257a79a997d666438dc55056a68a660698298aae01e26"
  },
  "kernelspec": {
   "display_name": "Python 3.8.5 64-bit ('base': conda)",
   "language": "python",
   "name": "python3"
  },
  "language_info": {
   "codemirror_mode": {
    "name": "ipython",
    "version": 3
   },
   "file_extension": ".py",
   "mimetype": "text/x-python",
   "name": "python",
   "nbconvert_exporter": "python",
   "pygments_lexer": "ipython3",
   "version": "3.8.5"
  },
  "orig_nbformat": 4
 },
 "nbformat": 4,
 "nbformat_minor": 2
}
